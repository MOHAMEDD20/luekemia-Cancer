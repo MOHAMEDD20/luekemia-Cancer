{
 "cells": [
  {
   "cell_type": "markdown",
   "metadata": {},
   "source": [
    "**Function and modules for data preparation and visualization**"
   ]
  },
  {
   "cell_type": "code",
   "execution_count": 1,
   "metadata": {
    "id": "b4cGMMTdKyfe"
   },
   "outputs": [],
   "source": [
    "import pandas as pd\n",
    "import numpy as np\n",
    "import matplotlib.pyplot as plt\n",
    "%matplotlib inline\n",
    "import seaborn as sns\n",
    "from scipy import stats\n",
    "from pandas.plotting import scatter_matrix\n",
    "import matplotlib\n",
    "import sklearn\n",
    "\n",
    "import warnings\n",
    "warnings.filterwarnings('ignore')\n",
    "import re\n",
    "import os"
   ]
  },
  {
   "cell_type": "markdown",
   "metadata": {},
   "source": [
    "**Function and modules for the supervised Classification models**"
   ]
  },
  {
   "cell_type": "code",
   "execution_count": 2,
   "metadata": {},
   "outputs": [],
   "source": [
    "from sklearn.ensemble import RandomForestClassifier\n",
    "from sklearn.svm import SVC\n",
    "from sklearn.neighbors import KNeighborsClassifier"
   ]
  },
  {
   "cell_type": "markdown",
   "metadata": {},
   "source": [
    "**Function and modules for data analysis and model evaluation**"
   ]
  },
  {
   "cell_type": "code",
   "execution_count": 3,
   "metadata": {},
   "outputs": [],
   "source": [
    "from sklearn.model_selection import GridSearchCV\n",
    "from sklearn.model_selection import train_test_split\n",
    "from sklearn.model_selection import StratifiedKFold,ShuffleSplit\n",
    "from sklearn.model_selection import KFold\n",
    "from sklearn.model_selection import cross_val_score\n",
    "from sklearn.metrics import classification_report,confusion_matrix,accuracy_score\n",
    "from sklearn import model_selection\n",
    "from sklearn.preprocessing import OrdinalEncoder\n",
    "\n",
    "from sklearn.metrics import log_loss\n",
    "from sklearn.metrics import roc_auc_score\n",
    "from sklearn.metrics import precision_score\n",
    "from sklearn.metrics import recall_score\n",
    "from sklearn.metrics import f1_score\n",
    "from sklearn.metrics import matthews_corrcoef"
   ]
  },
  {
   "cell_type": "markdown",
   "metadata": {
    "id": "39wrIBQcw4ob"
   },
   "source": [
    "**Read inputs & outputs (Data)**"
   ]
  },
  {
   "cell_type": "code",
   "execution_count": 4,
   "metadata": {
    "id": "J_QfTht6sQtx"
   },
   "outputs": [],
   "source": [
    "df=pd.read_csv('Leukemia_GSE71935.csv',)"
   ]
  },
  {
   "cell_type": "code",
   "execution_count": 5,
   "metadata": {},
   "outputs": [
    {
     "data": {
      "text/html": [
       "<div>\n",
       "<style scoped>\n",
       "    .dataframe tbody tr th:only-of-type {\n",
       "        vertical-align: middle;\n",
       "    }\n",
       "\n",
       "    .dataframe tbody tr th {\n",
       "        vertical-align: top;\n",
       "    }\n",
       "\n",
       "    .dataframe thead th {\n",
       "        text-align: right;\n",
       "    }\n",
       "</style>\n",
       "<table border=\"1\" class=\"dataframe\">\n",
       "  <thead>\n",
       "    <tr style=\"text-align: right;\">\n",
       "      <th></th>\n",
       "      <th>samples</th>\n",
       "      <th>type</th>\n",
       "      <th>1007_s_at</th>\n",
       "      <th>1053_at</th>\n",
       "      <th>117_at</th>\n",
       "      <th>121_at</th>\n",
       "      <th>1255_g_at</th>\n",
       "      <th>1294_at</th>\n",
       "      <th>1316_at</th>\n",
       "      <th>1320_at</th>\n",
       "      <th>...</th>\n",
       "      <th>AFFX-r2-Ec-bioD-3_at</th>\n",
       "      <th>AFFX-r2-Ec-bioD-5_at</th>\n",
       "      <th>AFFX-r2-P1-cre-3_at</th>\n",
       "      <th>AFFX-r2-P1-cre-5_at</th>\n",
       "      <th>AFFX-ThrX-3_at</th>\n",
       "      <th>AFFX-ThrX-5_at</th>\n",
       "      <th>AFFX-ThrX-M_at</th>\n",
       "      <th>AFFX-TrpnX-3_at</th>\n",
       "      <th>AFFX-TrpnX-5_at</th>\n",
       "      <th>AFFX-TrpnX-M_at</th>\n",
       "    </tr>\n",
       "  </thead>\n",
       "  <tbody>\n",
       "    <tr>\n",
       "      <th>0</th>\n",
       "      <td>541</td>\n",
       "      <td>JMML</td>\n",
       "      <td>6.581923</td>\n",
       "      <td>6.973938</td>\n",
       "      <td>6.241571</td>\n",
       "      <td>8.169811</td>\n",
       "      <td>3.101444</td>\n",
       "      <td>7.521992</td>\n",
       "      <td>5.572300</td>\n",
       "      <td>4.746571</td>\n",
       "      <td>...</td>\n",
       "      <td>12.777497</td>\n",
       "      <td>12.152497</td>\n",
       "      <td>14.064551</td>\n",
       "      <td>14.008521</td>\n",
       "      <td>4.705099</td>\n",
       "      <td>3.885165</td>\n",
       "      <td>3.543180</td>\n",
       "      <td>2.830503</td>\n",
       "      <td>3.617848</td>\n",
       "      <td>3.277917</td>\n",
       "    </tr>\n",
       "    <tr>\n",
       "      <th>1</th>\n",
       "      <td>542</td>\n",
       "      <td>JMML</td>\n",
       "      <td>5.666901</td>\n",
       "      <td>8.268696</td>\n",
       "      <td>7.488496</td>\n",
       "      <td>7.366530</td>\n",
       "      <td>2.789599</td>\n",
       "      <td>8.256894</td>\n",
       "      <td>5.762561</td>\n",
       "      <td>4.074388</td>\n",
       "      <td>...</td>\n",
       "      <td>12.998342</td>\n",
       "      <td>12.262868</td>\n",
       "      <td>14.199057</td>\n",
       "      <td>14.067155</td>\n",
       "      <td>9.681597</td>\n",
       "      <td>7.461119</td>\n",
       "      <td>8.625853</td>\n",
       "      <td>2.899173</td>\n",
       "      <td>3.513921</td>\n",
       "      <td>3.250303</td>\n",
       "    </tr>\n",
       "    <tr>\n",
       "      <th>2</th>\n",
       "      <td>543</td>\n",
       "      <td>JMML</td>\n",
       "      <td>5.789441</td>\n",
       "      <td>7.909938</td>\n",
       "      <td>6.067253</td>\n",
       "      <td>7.707432</td>\n",
       "      <td>2.814913</td>\n",
       "      <td>7.746754</td>\n",
       "      <td>6.244444</td>\n",
       "      <td>4.086219</td>\n",
       "      <td>...</td>\n",
       "      <td>13.037606</td>\n",
       "      <td>12.258528</td>\n",
       "      <td>14.119245</td>\n",
       "      <td>13.998612</td>\n",
       "      <td>9.308821</td>\n",
       "      <td>7.345589</td>\n",
       "      <td>7.909484</td>\n",
       "      <td>2.874595</td>\n",
       "      <td>3.624569</td>\n",
       "      <td>3.213841</td>\n",
       "    </tr>\n",
       "    <tr>\n",
       "      <th>3</th>\n",
       "      <td>544</td>\n",
       "      <td>JMML</td>\n",
       "      <td>6.208105</td>\n",
       "      <td>6.642045</td>\n",
       "      <td>6.724232</td>\n",
       "      <td>7.610161</td>\n",
       "      <td>2.904125</td>\n",
       "      <td>7.897570</td>\n",
       "      <td>5.611011</td>\n",
       "      <td>4.102048</td>\n",
       "      <td>...</td>\n",
       "      <td>13.027382</td>\n",
       "      <td>12.305348</td>\n",
       "      <td>14.079714</td>\n",
       "      <td>14.033668</td>\n",
       "      <td>7.806293</td>\n",
       "      <td>5.474921</td>\n",
       "      <td>6.469318</td>\n",
       "      <td>3.003693</td>\n",
       "      <td>3.343421</td>\n",
       "      <td>3.208317</td>\n",
       "    </tr>\n",
       "    <tr>\n",
       "      <th>4</th>\n",
       "      <td>545</td>\n",
       "      <td>JMML</td>\n",
       "      <td>5.222456</td>\n",
       "      <td>8.064864</td>\n",
       "      <td>6.692422</td>\n",
       "      <td>7.543151</td>\n",
       "      <td>2.897822</td>\n",
       "      <td>8.095859</td>\n",
       "      <td>6.153365</td>\n",
       "      <td>3.923472</td>\n",
       "      <td>...</td>\n",
       "      <td>12.875292</td>\n",
       "      <td>12.362886</td>\n",
       "      <td>14.129486</td>\n",
       "      <td>14.199905</td>\n",
       "      <td>8.237609</td>\n",
       "      <td>5.254592</td>\n",
       "      <td>6.918730</td>\n",
       "      <td>3.041982</td>\n",
       "      <td>3.572885</td>\n",
       "      <td>3.124638</td>\n",
       "    </tr>\n",
       "    <tr>\n",
       "      <th>5</th>\n",
       "      <td>546</td>\n",
       "      <td>JMML</td>\n",
       "      <td>5.909173</td>\n",
       "      <td>7.694048</td>\n",
       "      <td>6.483238</td>\n",
       "      <td>7.424104</td>\n",
       "      <td>2.738126</td>\n",
       "      <td>7.412941</td>\n",
       "      <td>6.292811</td>\n",
       "      <td>4.326070</td>\n",
       "      <td>...</td>\n",
       "      <td>12.859101</td>\n",
       "      <td>12.231378</td>\n",
       "      <td>14.215266</td>\n",
       "      <td>14.176641</td>\n",
       "      <td>8.254922</td>\n",
       "      <td>5.402718</td>\n",
       "      <td>6.812010</td>\n",
       "      <td>2.831513</td>\n",
       "      <td>3.685706</td>\n",
       "      <td>3.182729</td>\n",
       "    </tr>\n",
       "    <tr>\n",
       "      <th>6</th>\n",
       "      <td>547</td>\n",
       "      <td>JMML</td>\n",
       "      <td>4.978725</td>\n",
       "      <td>8.263890</td>\n",
       "      <td>5.997606</td>\n",
       "      <td>7.455048</td>\n",
       "      <td>2.778287</td>\n",
       "      <td>7.314969</td>\n",
       "      <td>7.728294</td>\n",
       "      <td>4.092225</td>\n",
       "      <td>...</td>\n",
       "      <td>12.993051</td>\n",
       "      <td>12.384470</td>\n",
       "      <td>14.309715</td>\n",
       "      <td>14.205636</td>\n",
       "      <td>8.992892</td>\n",
       "      <td>7.191203</td>\n",
       "      <td>7.989721</td>\n",
       "      <td>2.896852</td>\n",
       "      <td>3.453444</td>\n",
       "      <td>3.195164</td>\n",
       "    </tr>\n",
       "    <tr>\n",
       "      <th>7</th>\n",
       "      <td>548</td>\n",
       "      <td>JMML</td>\n",
       "      <td>5.374139</td>\n",
       "      <td>7.898713</td>\n",
       "      <td>6.059789</td>\n",
       "      <td>7.607697</td>\n",
       "      <td>2.764925</td>\n",
       "      <td>7.703956</td>\n",
       "      <td>6.006032</td>\n",
       "      <td>3.971268</td>\n",
       "      <td>...</td>\n",
       "      <td>12.836997</td>\n",
       "      <td>12.193247</td>\n",
       "      <td>14.104228</td>\n",
       "      <td>13.941464</td>\n",
       "      <td>7.000581</td>\n",
       "      <td>4.450398</td>\n",
       "      <td>5.300531</td>\n",
       "      <td>2.652451</td>\n",
       "      <td>3.512295</td>\n",
       "      <td>3.038555</td>\n",
       "    </tr>\n",
       "    <tr>\n",
       "      <th>8</th>\n",
       "      <td>549</td>\n",
       "      <td>JMML</td>\n",
       "      <td>5.695381</td>\n",
       "      <td>7.317844</td>\n",
       "      <td>8.876408</td>\n",
       "      <td>7.030908</td>\n",
       "      <td>2.918834</td>\n",
       "      <td>8.589349</td>\n",
       "      <td>5.709215</td>\n",
       "      <td>4.082304</td>\n",
       "      <td>...</td>\n",
       "      <td>12.554581</td>\n",
       "      <td>11.922574</td>\n",
       "      <td>14.085665</td>\n",
       "      <td>13.865839</td>\n",
       "      <td>6.785325</td>\n",
       "      <td>4.208064</td>\n",
       "      <td>5.101862</td>\n",
       "      <td>2.989375</td>\n",
       "      <td>3.598697</td>\n",
       "      <td>3.340078</td>\n",
       "    </tr>\n",
       "    <tr>\n",
       "      <th>9</th>\n",
       "      <td>550</td>\n",
       "      <td>JMML</td>\n",
       "      <td>6.097299</td>\n",
       "      <td>7.235822</td>\n",
       "      <td>6.448673</td>\n",
       "      <td>7.745256</td>\n",
       "      <td>2.703784</td>\n",
       "      <td>8.658899</td>\n",
       "      <td>5.878510</td>\n",
       "      <td>3.882794</td>\n",
       "      <td>...</td>\n",
       "      <td>13.096321</td>\n",
       "      <td>12.441207</td>\n",
       "      <td>14.240552</td>\n",
       "      <td>14.151770</td>\n",
       "      <td>7.081755</td>\n",
       "      <td>5.034908</td>\n",
       "      <td>5.857650</td>\n",
       "      <td>2.794530</td>\n",
       "      <td>3.538758</td>\n",
       "      <td>3.238705</td>\n",
       "    </tr>\n",
       "    <tr>\n",
       "      <th>10</th>\n",
       "      <td>551</td>\n",
       "      <td>JMML</td>\n",
       "      <td>6.196606</td>\n",
       "      <td>7.399821</td>\n",
       "      <td>6.245695</td>\n",
       "      <td>7.564986</td>\n",
       "      <td>2.706706</td>\n",
       "      <td>7.783212</td>\n",
       "      <td>5.456373</td>\n",
       "      <td>4.150409</td>\n",
       "      <td>...</td>\n",
       "      <td>13.073143</td>\n",
       "      <td>12.364169</td>\n",
       "      <td>14.223619</td>\n",
       "      <td>13.997827</td>\n",
       "      <td>5.952588</td>\n",
       "      <td>3.718787</td>\n",
       "      <td>4.377116</td>\n",
       "      <td>3.025471</td>\n",
       "      <td>3.508872</td>\n",
       "      <td>3.018213</td>\n",
       "    </tr>\n",
       "    <tr>\n",
       "      <th>11</th>\n",
       "      <td>552</td>\n",
       "      <td>JMML</td>\n",
       "      <td>6.277807</td>\n",
       "      <td>7.020265</td>\n",
       "      <td>7.012568</td>\n",
       "      <td>7.581665</td>\n",
       "      <td>2.776360</td>\n",
       "      <td>8.040601</td>\n",
       "      <td>5.766471</td>\n",
       "      <td>3.908121</td>\n",
       "      <td>...</td>\n",
       "      <td>12.982161</td>\n",
       "      <td>12.262868</td>\n",
       "      <td>14.158757</td>\n",
       "      <td>14.018889</td>\n",
       "      <td>5.801450</td>\n",
       "      <td>3.752724</td>\n",
       "      <td>4.414620</td>\n",
       "      <td>2.861415</td>\n",
       "      <td>3.614577</td>\n",
       "      <td>3.176386</td>\n",
       "    </tr>\n",
       "    <tr>\n",
       "      <th>12</th>\n",
       "      <td>553</td>\n",
       "      <td>JMML</td>\n",
       "      <td>5.704211</td>\n",
       "      <td>7.885400</td>\n",
       "      <td>7.562450</td>\n",
       "      <td>7.349813</td>\n",
       "      <td>2.843378</td>\n",
       "      <td>7.783765</td>\n",
       "      <td>5.686493</td>\n",
       "      <td>3.795845</td>\n",
       "      <td>...</td>\n",
       "      <td>12.943626</td>\n",
       "      <td>12.212479</td>\n",
       "      <td>14.236658</td>\n",
       "      <td>14.076025</td>\n",
       "      <td>7.683878</td>\n",
       "      <td>5.845499</td>\n",
       "      <td>6.637606</td>\n",
       "      <td>2.774935</td>\n",
       "      <td>3.641042</td>\n",
       "      <td>3.352958</td>\n",
       "    </tr>\n",
       "    <tr>\n",
       "      <th>13</th>\n",
       "      <td>554</td>\n",
       "      <td>JMML</td>\n",
       "      <td>6.412180</td>\n",
       "      <td>8.435061</td>\n",
       "      <td>6.982904</td>\n",
       "      <td>8.266964</td>\n",
       "      <td>3.082980</td>\n",
       "      <td>8.113560</td>\n",
       "      <td>5.801688</td>\n",
       "      <td>4.688849</td>\n",
       "      <td>...</td>\n",
       "      <td>12.890205</td>\n",
       "      <td>12.161655</td>\n",
       "      <td>14.096051</td>\n",
       "      <td>13.972378</td>\n",
       "      <td>4.582666</td>\n",
       "      <td>4.189931</td>\n",
       "      <td>3.580660</td>\n",
       "      <td>2.888354</td>\n",
       "      <td>3.615477</td>\n",
       "      <td>3.437033</td>\n",
       "    </tr>\n",
       "    <tr>\n",
       "      <th>14</th>\n",
       "      <td>555</td>\n",
       "      <td>JMML</td>\n",
       "      <td>6.586477</td>\n",
       "      <td>8.552916</td>\n",
       "      <td>7.428849</td>\n",
       "      <td>8.082779</td>\n",
       "      <td>2.696938</td>\n",
       "      <td>7.317026</td>\n",
       "      <td>5.729861</td>\n",
       "      <td>4.544887</td>\n",
       "      <td>...</td>\n",
       "      <td>12.953009</td>\n",
       "      <td>12.419834</td>\n",
       "      <td>14.054389</td>\n",
       "      <td>13.986243</td>\n",
       "      <td>4.555940</td>\n",
       "      <td>3.677716</td>\n",
       "      <td>3.307280</td>\n",
       "      <td>2.801092</td>\n",
       "      <td>3.532124</td>\n",
       "      <td>3.231215</td>\n",
       "    </tr>\n",
       "    <tr>\n",
       "      <th>15</th>\n",
       "      <td>556</td>\n",
       "      <td>JMML</td>\n",
       "      <td>6.940400</td>\n",
       "      <td>8.005993</td>\n",
       "      <td>6.514924</td>\n",
       "      <td>8.133699</td>\n",
       "      <td>3.113941</td>\n",
       "      <td>8.753275</td>\n",
       "      <td>5.670232</td>\n",
       "      <td>4.328350</td>\n",
       "      <td>...</td>\n",
       "      <td>12.578102</td>\n",
       "      <td>11.937070</td>\n",
       "      <td>13.860728</td>\n",
       "      <td>13.850135</td>\n",
       "      <td>4.800439</td>\n",
       "      <td>3.969768</td>\n",
       "      <td>3.545915</td>\n",
       "      <td>2.948082</td>\n",
       "      <td>3.913077</td>\n",
       "      <td>3.433984</td>\n",
       "    </tr>\n",
       "    <tr>\n",
       "      <th>16</th>\n",
       "      <td>557</td>\n",
       "      <td>JMML</td>\n",
       "      <td>6.727254</td>\n",
       "      <td>8.716122</td>\n",
       "      <td>6.481471</td>\n",
       "      <td>8.035522</td>\n",
       "      <td>2.812664</td>\n",
       "      <td>8.218307</td>\n",
       "      <td>5.627874</td>\n",
       "      <td>4.347274</td>\n",
       "      <td>...</td>\n",
       "      <td>12.785654</td>\n",
       "      <td>12.347186</td>\n",
       "      <td>14.044970</td>\n",
       "      <td>13.992533</td>\n",
       "      <td>4.320227</td>\n",
       "      <td>3.716736</td>\n",
       "      <td>3.281990</td>\n",
       "      <td>2.562840</td>\n",
       "      <td>3.612962</td>\n",
       "      <td>3.330206</td>\n",
       "    </tr>\n",
       "    <tr>\n",
       "      <th>17</th>\n",
       "      <td>559</td>\n",
       "      <td>JMML</td>\n",
       "      <td>6.200840</td>\n",
       "      <td>7.743689</td>\n",
       "      <td>5.788768</td>\n",
       "      <td>8.096314</td>\n",
       "      <td>2.911339</td>\n",
       "      <td>8.182826</td>\n",
       "      <td>5.648249</td>\n",
       "      <td>4.288243</td>\n",
       "      <td>...</td>\n",
       "      <td>12.945286</td>\n",
       "      <td>12.258968</td>\n",
       "      <td>14.059082</td>\n",
       "      <td>13.976649</td>\n",
       "      <td>4.616564</td>\n",
       "      <td>3.850084</td>\n",
       "      <td>3.054351</td>\n",
       "      <td>2.673262</td>\n",
       "      <td>3.517098</td>\n",
       "      <td>3.294601</td>\n",
       "    </tr>\n",
       "    <tr>\n",
       "      <th>18</th>\n",
       "      <td>560</td>\n",
       "      <td>JMML</td>\n",
       "      <td>6.593892</td>\n",
       "      <td>8.319461</td>\n",
       "      <td>5.981667</td>\n",
       "      <td>8.025538</td>\n",
       "      <td>3.092870</td>\n",
       "      <td>7.706881</td>\n",
       "      <td>5.644992</td>\n",
       "      <td>4.316861</td>\n",
       "      <td>...</td>\n",
       "      <td>12.825875</td>\n",
       "      <td>12.306357</td>\n",
       "      <td>14.027905</td>\n",
       "      <td>13.940876</td>\n",
       "      <td>4.600059</td>\n",
       "      <td>3.915199</td>\n",
       "      <td>3.329913</td>\n",
       "      <td>2.702751</td>\n",
       "      <td>3.664910</td>\n",
       "      <td>3.117434</td>\n",
       "    </tr>\n",
       "    <tr>\n",
       "      <th>19</th>\n",
       "      <td>561</td>\n",
       "      <td>JMML</td>\n",
       "      <td>6.026433</td>\n",
       "      <td>8.975128</td>\n",
       "      <td>8.197136</td>\n",
       "      <td>8.001449</td>\n",
       "      <td>2.821839</td>\n",
       "      <td>8.683055</td>\n",
       "      <td>5.362736</td>\n",
       "      <td>4.456565</td>\n",
       "      <td>...</td>\n",
       "      <td>12.854083</td>\n",
       "      <td>12.222247</td>\n",
       "      <td>13.929328</td>\n",
       "      <td>13.896642</td>\n",
       "      <td>4.647683</td>\n",
       "      <td>3.668272</td>\n",
       "      <td>3.403422</td>\n",
       "      <td>2.832725</td>\n",
       "      <td>3.565342</td>\n",
       "      <td>3.245853</td>\n",
       "    </tr>\n",
       "    <tr>\n",
       "      <th>20</th>\n",
       "      <td>562</td>\n",
       "      <td>JMML</td>\n",
       "      <td>6.026837</td>\n",
       "      <td>7.459786</td>\n",
       "      <td>5.953995</td>\n",
       "      <td>7.929082</td>\n",
       "      <td>3.110902</td>\n",
       "      <td>7.779023</td>\n",
       "      <td>5.776985</td>\n",
       "      <td>4.655236</td>\n",
       "      <td>...</td>\n",
       "      <td>13.077044</td>\n",
       "      <td>12.376070</td>\n",
       "      <td>14.078318</td>\n",
       "      <td>14.046944</td>\n",
       "      <td>4.606900</td>\n",
       "      <td>4.032000</td>\n",
       "      <td>3.363352</td>\n",
       "      <td>2.916342</td>\n",
       "      <td>3.554761</td>\n",
       "      <td>3.243707</td>\n",
       "    </tr>\n",
       "    <tr>\n",
       "      <th>21</th>\n",
       "      <td>563</td>\n",
       "      <td>JMML</td>\n",
       "      <td>6.315485</td>\n",
       "      <td>7.315660</td>\n",
       "      <td>8.507767</td>\n",
       "      <td>8.030871</td>\n",
       "      <td>2.815755</td>\n",
       "      <td>7.866667</td>\n",
       "      <td>5.960437</td>\n",
       "      <td>4.587462</td>\n",
       "      <td>...</td>\n",
       "      <td>12.814743</td>\n",
       "      <td>12.165436</td>\n",
       "      <td>14.031770</td>\n",
       "      <td>13.956524</td>\n",
       "      <td>4.569798</td>\n",
       "      <td>3.695191</td>\n",
       "      <td>3.177971</td>\n",
       "      <td>2.741393</td>\n",
       "      <td>3.587095</td>\n",
       "      <td>3.220293</td>\n",
       "    </tr>\n",
       "    <tr>\n",
       "      <th>22</th>\n",
       "      <td>564</td>\n",
       "      <td>JMML</td>\n",
       "      <td>5.931651</td>\n",
       "      <td>7.521578</td>\n",
       "      <td>6.186488</td>\n",
       "      <td>8.226753</td>\n",
       "      <td>2.947757</td>\n",
       "      <td>7.964125</td>\n",
       "      <td>5.659421</td>\n",
       "      <td>4.351449</td>\n",
       "      <td>...</td>\n",
       "      <td>13.128373</td>\n",
       "      <td>12.595861</td>\n",
       "      <td>14.128198</td>\n",
       "      <td>14.021179</td>\n",
       "      <td>4.528822</td>\n",
       "      <td>3.651910</td>\n",
       "      <td>3.270733</td>\n",
       "      <td>2.808511</td>\n",
       "      <td>3.611946</td>\n",
       "      <td>3.163375</td>\n",
       "    </tr>\n",
       "    <tr>\n",
       "      <th>23</th>\n",
       "      <td>565</td>\n",
       "      <td>JMML</td>\n",
       "      <td>5.784118</td>\n",
       "      <td>8.169811</td>\n",
       "      <td>6.217632</td>\n",
       "      <td>7.482101</td>\n",
       "      <td>3.103514</td>\n",
       "      <td>7.890859</td>\n",
       "      <td>6.548243</td>\n",
       "      <td>4.372212</td>\n",
       "      <td>...</td>\n",
       "      <td>12.830206</td>\n",
       "      <td>12.213853</td>\n",
       "      <td>14.015382</td>\n",
       "      <td>13.922606</td>\n",
       "      <td>8.083470</td>\n",
       "      <td>5.641497</td>\n",
       "      <td>6.135795</td>\n",
       "      <td>2.838983</td>\n",
       "      <td>3.676150</td>\n",
       "      <td>3.272008</td>\n",
       "    </tr>\n",
       "    <tr>\n",
       "      <th>24</th>\n",
       "      <td>566</td>\n",
       "      <td>JMML</td>\n",
       "      <td>6.264455</td>\n",
       "      <td>7.076237</td>\n",
       "      <td>6.545333</td>\n",
       "      <td>8.264808</td>\n",
       "      <td>3.160729</td>\n",
       "      <td>6.983681</td>\n",
       "      <td>6.389295</td>\n",
       "      <td>4.503542</td>\n",
       "      <td>...</td>\n",
       "      <td>12.898459</td>\n",
       "      <td>12.108219</td>\n",
       "      <td>14.112718</td>\n",
       "      <td>14.045027</td>\n",
       "      <td>4.540025</td>\n",
       "      <td>4.059054</td>\n",
       "      <td>3.521245</td>\n",
       "      <td>2.997563</td>\n",
       "      <td>3.793700</td>\n",
       "      <td>3.388810</td>\n",
       "    </tr>\n",
       "    <tr>\n",
       "      <th>25</th>\n",
       "      <td>567</td>\n",
       "      <td>JMML</td>\n",
       "      <td>6.453931</td>\n",
       "      <td>6.813663</td>\n",
       "      <td>6.629362</td>\n",
       "      <td>8.427011</td>\n",
       "      <td>2.970119</td>\n",
       "      <td>7.872428</td>\n",
       "      <td>5.943501</td>\n",
       "      <td>4.631994</td>\n",
       "      <td>...</td>\n",
       "      <td>13.080081</td>\n",
       "      <td>12.327708</td>\n",
       "      <td>14.112279</td>\n",
       "      <td>14.079509</td>\n",
       "      <td>4.502241</td>\n",
       "      <td>3.956651</td>\n",
       "      <td>3.211436</td>\n",
       "      <td>2.649808</td>\n",
       "      <td>3.569181</td>\n",
       "      <td>3.085234</td>\n",
       "    </tr>\n",
       "    <tr>\n",
       "      <th>26</th>\n",
       "      <td>568</td>\n",
       "      <td>JMML</td>\n",
       "      <td>6.046362</td>\n",
       "      <td>7.386210</td>\n",
       "      <td>7.136399</td>\n",
       "      <td>7.927725</td>\n",
       "      <td>2.882415</td>\n",
       "      <td>8.167042</td>\n",
       "      <td>5.626840</td>\n",
       "      <td>4.453512</td>\n",
       "      <td>...</td>\n",
       "      <td>12.886995</td>\n",
       "      <td>12.310674</td>\n",
       "      <td>14.081438</td>\n",
       "      <td>14.059465</td>\n",
       "      <td>4.498544</td>\n",
       "      <td>3.890586</td>\n",
       "      <td>3.365919</td>\n",
       "      <td>2.765795</td>\n",
       "      <td>3.719391</td>\n",
       "      <td>3.155977</td>\n",
       "    </tr>\n",
       "    <tr>\n",
       "      <th>27</th>\n",
       "      <td>569</td>\n",
       "      <td>JMML</td>\n",
       "      <td>5.473388</td>\n",
       "      <td>8.727885</td>\n",
       "      <td>6.691184</td>\n",
       "      <td>7.980360</td>\n",
       "      <td>2.954095</td>\n",
       "      <td>8.514607</td>\n",
       "      <td>5.503654</td>\n",
       "      <td>4.351038</td>\n",
       "      <td>...</td>\n",
       "      <td>12.919937</td>\n",
       "      <td>12.267385</td>\n",
       "      <td>14.133943</td>\n",
       "      <td>14.086215</td>\n",
       "      <td>4.359529</td>\n",
       "      <td>3.695626</td>\n",
       "      <td>3.276886</td>\n",
       "      <td>2.772123</td>\n",
       "      <td>3.735677</td>\n",
       "      <td>3.257605</td>\n",
       "    </tr>\n",
       "    <tr>\n",
       "      <th>28</th>\n",
       "      <td>570</td>\n",
       "      <td>JMML</td>\n",
       "      <td>6.281496</td>\n",
       "      <td>7.117037</td>\n",
       "      <td>5.836479</td>\n",
       "      <td>8.297058</td>\n",
       "      <td>2.971775</td>\n",
       "      <td>7.516822</td>\n",
       "      <td>5.828484</td>\n",
       "      <td>4.583079</td>\n",
       "      <td>...</td>\n",
       "      <td>13.303937</td>\n",
       "      <td>12.533370</td>\n",
       "      <td>14.095418</td>\n",
       "      <td>14.031559</td>\n",
       "      <td>4.830930</td>\n",
       "      <td>4.059737</td>\n",
       "      <td>3.273940</td>\n",
       "      <td>2.965829</td>\n",
       "      <td>3.784864</td>\n",
       "      <td>3.142551</td>\n",
       "    </tr>\n",
       "    <tr>\n",
       "      <th>29</th>\n",
       "      <td>571</td>\n",
       "      <td>JMML</td>\n",
       "      <td>6.170041</td>\n",
       "      <td>6.871534</td>\n",
       "      <td>5.971160</td>\n",
       "      <td>7.918681</td>\n",
       "      <td>2.878358</td>\n",
       "      <td>7.679043</td>\n",
       "      <td>6.037340</td>\n",
       "      <td>4.370033</td>\n",
       "      <td>...</td>\n",
       "      <td>13.429272</td>\n",
       "      <td>12.684476</td>\n",
       "      <td>14.137348</td>\n",
       "      <td>14.073425</td>\n",
       "      <td>4.726471</td>\n",
       "      <td>3.788292</td>\n",
       "      <td>3.261744</td>\n",
       "      <td>2.980881</td>\n",
       "      <td>3.801044</td>\n",
       "      <td>3.363499</td>\n",
       "    </tr>\n",
       "    <tr>\n",
       "      <th>30</th>\n",
       "      <td>572</td>\n",
       "      <td>JMML</td>\n",
       "      <td>6.483914</td>\n",
       "      <td>7.845715</td>\n",
       "      <td>6.383176</td>\n",
       "      <td>8.385572</td>\n",
       "      <td>3.047454</td>\n",
       "      <td>8.251979</td>\n",
       "      <td>5.998911</td>\n",
       "      <td>4.822066</td>\n",
       "      <td>...</td>\n",
       "      <td>13.799515</td>\n",
       "      <td>13.094707</td>\n",
       "      <td>14.308664</td>\n",
       "      <td>14.265886</td>\n",
       "      <td>4.891675</td>\n",
       "      <td>4.169597</td>\n",
       "      <td>3.271093</td>\n",
       "      <td>3.042062</td>\n",
       "      <td>3.855226</td>\n",
       "      <td>3.445765</td>\n",
       "    </tr>\n",
       "    <tr>\n",
       "      <th>31</th>\n",
       "      <td>573</td>\n",
       "      <td>JMML</td>\n",
       "      <td>5.990483</td>\n",
       "      <td>7.505123</td>\n",
       "      <td>6.874403</td>\n",
       "      <td>7.903478</td>\n",
       "      <td>2.881272</td>\n",
       "      <td>9.077543</td>\n",
       "      <td>6.136680</td>\n",
       "      <td>4.584504</td>\n",
       "      <td>...</td>\n",
       "      <td>13.034504</td>\n",
       "      <td>12.234616</td>\n",
       "      <td>14.124443</td>\n",
       "      <td>14.037783</td>\n",
       "      <td>4.410637</td>\n",
       "      <td>3.828926</td>\n",
       "      <td>3.208563</td>\n",
       "      <td>2.843825</td>\n",
       "      <td>3.777187</td>\n",
       "      <td>3.203704</td>\n",
       "    </tr>\n",
       "    <tr>\n",
       "      <th>32</th>\n",
       "      <td>574</td>\n",
       "      <td>JMML</td>\n",
       "      <td>6.397921</td>\n",
       "      <td>8.443580</td>\n",
       "      <td>5.632769</td>\n",
       "      <td>8.074637</td>\n",
       "      <td>2.884215</td>\n",
       "      <td>7.956075</td>\n",
       "      <td>5.590336</td>\n",
       "      <td>4.347846</td>\n",
       "      <td>...</td>\n",
       "      <td>12.738776</td>\n",
       "      <td>11.873473</td>\n",
       "      <td>13.905016</td>\n",
       "      <td>13.764443</td>\n",
       "      <td>4.588541</td>\n",
       "      <td>3.572628</td>\n",
       "      <td>3.256923</td>\n",
       "      <td>2.910040</td>\n",
       "      <td>3.656499</td>\n",
       "      <td>3.304829</td>\n",
       "    </tr>\n",
       "    <tr>\n",
       "      <th>33</th>\n",
       "      <td>575</td>\n",
       "      <td>JMML</td>\n",
       "      <td>5.821839</td>\n",
       "      <td>7.321543</td>\n",
       "      <td>7.600437</td>\n",
       "      <td>7.957975</td>\n",
       "      <td>2.854142</td>\n",
       "      <td>7.104613</td>\n",
       "      <td>5.554681</td>\n",
       "      <td>4.505548</td>\n",
       "      <td>...</td>\n",
       "      <td>12.984381</td>\n",
       "      <td>12.144690</td>\n",
       "      <td>13.964042</td>\n",
       "      <td>13.831974</td>\n",
       "      <td>4.558213</td>\n",
       "      <td>3.956324</td>\n",
       "      <td>3.130491</td>\n",
       "      <td>3.048906</td>\n",
       "      <td>3.656236</td>\n",
       "      <td>3.286031</td>\n",
       "    </tr>\n",
       "    <tr>\n",
       "      <th>34</th>\n",
       "      <td>576</td>\n",
       "      <td>JMML</td>\n",
       "      <td>6.322069</td>\n",
       "      <td>7.773310</td>\n",
       "      <td>6.371315</td>\n",
       "      <td>8.266565</td>\n",
       "      <td>3.045427</td>\n",
       "      <td>7.738460</td>\n",
       "      <td>5.867708</td>\n",
       "      <td>4.426486</td>\n",
       "      <td>...</td>\n",
       "      <td>12.939693</td>\n",
       "      <td>12.111504</td>\n",
       "      <td>13.978002</td>\n",
       "      <td>13.861626</td>\n",
       "      <td>4.957428</td>\n",
       "      <td>3.819971</td>\n",
       "      <td>3.357777</td>\n",
       "      <td>2.712747</td>\n",
       "      <td>3.720508</td>\n",
       "      <td>3.187619</td>\n",
       "    </tr>\n",
       "    <tr>\n",
       "      <th>35</th>\n",
       "      <td>577</td>\n",
       "      <td>JMML</td>\n",
       "      <td>6.456986</td>\n",
       "      <td>6.741758</td>\n",
       "      <td>7.666323</td>\n",
       "      <td>8.323040</td>\n",
       "      <td>3.309970</td>\n",
       "      <td>7.918081</td>\n",
       "      <td>6.195784</td>\n",
       "      <td>4.522334</td>\n",
       "      <td>...</td>\n",
       "      <td>13.424468</td>\n",
       "      <td>12.601969</td>\n",
       "      <td>14.233961</td>\n",
       "      <td>14.126192</td>\n",
       "      <td>4.756310</td>\n",
       "      <td>3.600998</td>\n",
       "      <td>3.498368</td>\n",
       "      <td>2.837281</td>\n",
       "      <td>4.067284</td>\n",
       "      <td>3.191505</td>\n",
       "    </tr>\n",
       "    <tr>\n",
       "      <th>36</th>\n",
       "      <td>578</td>\n",
       "      <td>JMML</td>\n",
       "      <td>6.075384</td>\n",
       "      <td>7.780953</td>\n",
       "      <td>6.027244</td>\n",
       "      <td>8.482604</td>\n",
       "      <td>2.786701</td>\n",
       "      <td>7.869060</td>\n",
       "      <td>6.017843</td>\n",
       "      <td>4.207363</td>\n",
       "      <td>...</td>\n",
       "      <td>12.967089</td>\n",
       "      <td>12.269262</td>\n",
       "      <td>14.087613</td>\n",
       "      <td>13.921562</td>\n",
       "      <td>4.363570</td>\n",
       "      <td>3.833725</td>\n",
       "      <td>3.210292</td>\n",
       "      <td>2.887592</td>\n",
       "      <td>3.441886</td>\n",
       "      <td>3.367418</td>\n",
       "    </tr>\n",
       "    <tr>\n",
       "      <th>37</th>\n",
       "      <td>579</td>\n",
       "      <td>normal</td>\n",
       "      <td>5.759644</td>\n",
       "      <td>7.821138</td>\n",
       "      <td>8.132814</td>\n",
       "      <td>7.781482</td>\n",
       "      <td>2.889190</td>\n",
       "      <td>8.167174</td>\n",
       "      <td>6.141597</td>\n",
       "      <td>4.088115</td>\n",
       "      <td>...</td>\n",
       "      <td>12.724064</td>\n",
       "      <td>12.197321</td>\n",
       "      <td>14.117278</td>\n",
       "      <td>14.055453</td>\n",
       "      <td>7.080774</td>\n",
       "      <td>4.763754</td>\n",
       "      <td>5.149368</td>\n",
       "      <td>2.764788</td>\n",
       "      <td>3.520711</td>\n",
       "      <td>3.320865</td>\n",
       "    </tr>\n",
       "    <tr>\n",
       "      <th>38</th>\n",
       "      <td>580</td>\n",
       "      <td>normal</td>\n",
       "      <td>6.503740</td>\n",
       "      <td>8.257216</td>\n",
       "      <td>6.431260</td>\n",
       "      <td>7.852564</td>\n",
       "      <td>2.990021</td>\n",
       "      <td>7.754347</td>\n",
       "      <td>5.851994</td>\n",
       "      <td>4.121563</td>\n",
       "      <td>...</td>\n",
       "      <td>12.830099</td>\n",
       "      <td>12.357760</td>\n",
       "      <td>14.092287</td>\n",
       "      <td>13.973866</td>\n",
       "      <td>4.392090</td>\n",
       "      <td>3.898049</td>\n",
       "      <td>3.285421</td>\n",
       "      <td>2.722889</td>\n",
       "      <td>3.779876</td>\n",
       "      <td>3.403215</td>\n",
       "    </tr>\n",
       "    <tr>\n",
       "      <th>39</th>\n",
       "      <td>581</td>\n",
       "      <td>normal</td>\n",
       "      <td>6.183173</td>\n",
       "      <td>7.493461</td>\n",
       "      <td>6.185660</td>\n",
       "      <td>8.052383</td>\n",
       "      <td>2.881292</td>\n",
       "      <td>7.613728</td>\n",
       "      <td>5.861003</td>\n",
       "      <td>4.568460</td>\n",
       "      <td>...</td>\n",
       "      <td>12.943626</td>\n",
       "      <td>12.399168</td>\n",
       "      <td>14.264288</td>\n",
       "      <td>14.118976</td>\n",
       "      <td>4.615173</td>\n",
       "      <td>3.821971</td>\n",
       "      <td>3.336847</td>\n",
       "      <td>2.766128</td>\n",
       "      <td>3.839208</td>\n",
       "      <td>3.447174</td>\n",
       "    </tr>\n",
       "    <tr>\n",
       "      <th>40</th>\n",
       "      <td>582</td>\n",
       "      <td>normal</td>\n",
       "      <td>6.295161</td>\n",
       "      <td>8.096177</td>\n",
       "      <td>6.853771</td>\n",
       "      <td>8.228511</td>\n",
       "      <td>2.913497</td>\n",
       "      <td>7.460327</td>\n",
       "      <td>5.705540</td>\n",
       "      <td>4.379972</td>\n",
       "      <td>...</td>\n",
       "      <td>13.008178</td>\n",
       "      <td>12.451096</td>\n",
       "      <td>14.248782</td>\n",
       "      <td>14.149545</td>\n",
       "      <td>4.108796</td>\n",
       "      <td>4.093986</td>\n",
       "      <td>3.306135</td>\n",
       "      <td>2.801020</td>\n",
       "      <td>3.800522</td>\n",
       "      <td>3.230039</td>\n",
       "    </tr>\n",
       "    <tr>\n",
       "      <th>41</th>\n",
       "      <td>583</td>\n",
       "      <td>normal</td>\n",
       "      <td>6.340855</td>\n",
       "      <td>7.357223</td>\n",
       "      <td>6.373715</td>\n",
       "      <td>8.414434</td>\n",
       "      <td>3.061598</td>\n",
       "      <td>7.632981</td>\n",
       "      <td>6.287540</td>\n",
       "      <td>4.307373</td>\n",
       "      <td>...</td>\n",
       "      <td>13.190825</td>\n",
       "      <td>12.476159</td>\n",
       "      <td>14.247693</td>\n",
       "      <td>14.125519</td>\n",
       "      <td>4.415224</td>\n",
       "      <td>3.794720</td>\n",
       "      <td>3.412791</td>\n",
       "      <td>2.809652</td>\n",
       "      <td>3.606516</td>\n",
       "      <td>3.207774</td>\n",
       "    </tr>\n",
       "    <tr>\n",
       "      <th>42</th>\n",
       "      <td>584</td>\n",
       "      <td>normal</td>\n",
       "      <td>6.613072</td>\n",
       "      <td>7.426689</td>\n",
       "      <td>6.318063</td>\n",
       "      <td>8.539121</td>\n",
       "      <td>3.058901</td>\n",
       "      <td>8.139250</td>\n",
       "      <td>6.163517</td>\n",
       "      <td>4.573479</td>\n",
       "      <td>...</td>\n",
       "      <td>12.961786</td>\n",
       "      <td>12.262868</td>\n",
       "      <td>14.036705</td>\n",
       "      <td>13.981663</td>\n",
       "      <td>4.707951</td>\n",
       "      <td>3.871494</td>\n",
       "      <td>3.391916</td>\n",
       "      <td>2.862409</td>\n",
       "      <td>3.577824</td>\n",
       "      <td>3.199937</td>\n",
       "    </tr>\n",
       "    <tr>\n",
       "      <th>43</th>\n",
       "      <td>585</td>\n",
       "      <td>normal</td>\n",
       "      <td>5.764737</td>\n",
       "      <td>7.229732</td>\n",
       "      <td>6.599775</td>\n",
       "      <td>7.644138</td>\n",
       "      <td>2.790397</td>\n",
       "      <td>7.759758</td>\n",
       "      <td>6.735500</td>\n",
       "      <td>3.986828</td>\n",
       "      <td>...</td>\n",
       "      <td>12.825976</td>\n",
       "      <td>12.176061</td>\n",
       "      <td>14.208133</td>\n",
       "      <td>14.097343</td>\n",
       "      <td>8.116206</td>\n",
       "      <td>6.553073</td>\n",
       "      <td>7.330549</td>\n",
       "      <td>2.683583</td>\n",
       "      <td>3.418432</td>\n",
       "      <td>3.287226</td>\n",
       "    </tr>\n",
       "    <tr>\n",
       "      <th>44</th>\n",
       "      <td>586</td>\n",
       "      <td>normal</td>\n",
       "      <td>5.439649</td>\n",
       "      <td>7.630996</td>\n",
       "      <td>7.420144</td>\n",
       "      <td>7.507256</td>\n",
       "      <td>2.596220</td>\n",
       "      <td>8.130843</td>\n",
       "      <td>6.278704</td>\n",
       "      <td>4.250273</td>\n",
       "      <td>...</td>\n",
       "      <td>12.784188</td>\n",
       "      <td>12.148593</td>\n",
       "      <td>14.150345</td>\n",
       "      <td>14.006637</td>\n",
       "      <td>8.286777</td>\n",
       "      <td>6.556379</td>\n",
       "      <td>7.274616</td>\n",
       "      <td>2.892980</td>\n",
       "      <td>3.617113</td>\n",
       "      <td>3.333452</td>\n",
       "    </tr>\n",
       "    <tr>\n",
       "      <th>45</th>\n",
       "      <td>587</td>\n",
       "      <td>normal</td>\n",
       "      <td>5.932438</td>\n",
       "      <td>7.259651</td>\n",
       "      <td>7.861627</td>\n",
       "      <td>7.562098</td>\n",
       "      <td>2.721767</td>\n",
       "      <td>8.885811</td>\n",
       "      <td>5.820120</td>\n",
       "      <td>4.121008</td>\n",
       "      <td>...</td>\n",
       "      <td>12.703064</td>\n",
       "      <td>12.028614</td>\n",
       "      <td>14.108007</td>\n",
       "      <td>13.973548</td>\n",
       "      <td>7.927775</td>\n",
       "      <td>6.090055</td>\n",
       "      <td>6.652056</td>\n",
       "      <td>2.879888</td>\n",
       "      <td>3.733172</td>\n",
       "      <td>3.315962</td>\n",
       "    </tr>\n",
       "  </tbody>\n",
       "</table>\n",
       "<p>46 rows × 54677 columns</p>\n",
       "</div>"
      ],
      "text/plain": [
       "    samples    type  1007_s_at   1053_at    117_at    121_at  1255_g_at  \\\n",
       "0       541    JMML   6.581923  6.973938  6.241571  8.169811   3.101444   \n",
       "1       542    JMML   5.666901  8.268696  7.488496  7.366530   2.789599   \n",
       "2       543    JMML   5.789441  7.909938  6.067253  7.707432   2.814913   \n",
       "3       544    JMML   6.208105  6.642045  6.724232  7.610161   2.904125   \n",
       "4       545    JMML   5.222456  8.064864  6.692422  7.543151   2.897822   \n",
       "5       546    JMML   5.909173  7.694048  6.483238  7.424104   2.738126   \n",
       "6       547    JMML   4.978725  8.263890  5.997606  7.455048   2.778287   \n",
       "7       548    JMML   5.374139  7.898713  6.059789  7.607697   2.764925   \n",
       "8       549    JMML   5.695381  7.317844  8.876408  7.030908   2.918834   \n",
       "9       550    JMML   6.097299  7.235822  6.448673  7.745256   2.703784   \n",
       "10      551    JMML   6.196606  7.399821  6.245695  7.564986   2.706706   \n",
       "11      552    JMML   6.277807  7.020265  7.012568  7.581665   2.776360   \n",
       "12      553    JMML   5.704211  7.885400  7.562450  7.349813   2.843378   \n",
       "13      554    JMML   6.412180  8.435061  6.982904  8.266964   3.082980   \n",
       "14      555    JMML   6.586477  8.552916  7.428849  8.082779   2.696938   \n",
       "15      556    JMML   6.940400  8.005993  6.514924  8.133699   3.113941   \n",
       "16      557    JMML   6.727254  8.716122  6.481471  8.035522   2.812664   \n",
       "17      559    JMML   6.200840  7.743689  5.788768  8.096314   2.911339   \n",
       "18      560    JMML   6.593892  8.319461  5.981667  8.025538   3.092870   \n",
       "19      561    JMML   6.026433  8.975128  8.197136  8.001449   2.821839   \n",
       "20      562    JMML   6.026837  7.459786  5.953995  7.929082   3.110902   \n",
       "21      563    JMML   6.315485  7.315660  8.507767  8.030871   2.815755   \n",
       "22      564    JMML   5.931651  7.521578  6.186488  8.226753   2.947757   \n",
       "23      565    JMML   5.784118  8.169811  6.217632  7.482101   3.103514   \n",
       "24      566    JMML   6.264455  7.076237  6.545333  8.264808   3.160729   \n",
       "25      567    JMML   6.453931  6.813663  6.629362  8.427011   2.970119   \n",
       "26      568    JMML   6.046362  7.386210  7.136399  7.927725   2.882415   \n",
       "27      569    JMML   5.473388  8.727885  6.691184  7.980360   2.954095   \n",
       "28      570    JMML   6.281496  7.117037  5.836479  8.297058   2.971775   \n",
       "29      571    JMML   6.170041  6.871534  5.971160  7.918681   2.878358   \n",
       "30      572    JMML   6.483914  7.845715  6.383176  8.385572   3.047454   \n",
       "31      573    JMML   5.990483  7.505123  6.874403  7.903478   2.881272   \n",
       "32      574    JMML   6.397921  8.443580  5.632769  8.074637   2.884215   \n",
       "33      575    JMML   5.821839  7.321543  7.600437  7.957975   2.854142   \n",
       "34      576    JMML   6.322069  7.773310  6.371315  8.266565   3.045427   \n",
       "35      577    JMML   6.456986  6.741758  7.666323  8.323040   3.309970   \n",
       "36      578    JMML   6.075384  7.780953  6.027244  8.482604   2.786701   \n",
       "37      579  normal   5.759644  7.821138  8.132814  7.781482   2.889190   \n",
       "38      580  normal   6.503740  8.257216  6.431260  7.852564   2.990021   \n",
       "39      581  normal   6.183173  7.493461  6.185660  8.052383   2.881292   \n",
       "40      582  normal   6.295161  8.096177  6.853771  8.228511   2.913497   \n",
       "41      583  normal   6.340855  7.357223  6.373715  8.414434   3.061598   \n",
       "42      584  normal   6.613072  7.426689  6.318063  8.539121   3.058901   \n",
       "43      585  normal   5.764737  7.229732  6.599775  7.644138   2.790397   \n",
       "44      586  normal   5.439649  7.630996  7.420144  7.507256   2.596220   \n",
       "45      587  normal   5.932438  7.259651  7.861627  7.562098   2.721767   \n",
       "\n",
       "     1294_at   1316_at   1320_at  ...  AFFX-r2-Ec-bioD-3_at  \\\n",
       "0   7.521992  5.572300  4.746571  ...             12.777497   \n",
       "1   8.256894  5.762561  4.074388  ...             12.998342   \n",
       "2   7.746754  6.244444  4.086219  ...             13.037606   \n",
       "3   7.897570  5.611011  4.102048  ...             13.027382   \n",
       "4   8.095859  6.153365  3.923472  ...             12.875292   \n",
       "5   7.412941  6.292811  4.326070  ...             12.859101   \n",
       "6   7.314969  7.728294  4.092225  ...             12.993051   \n",
       "7   7.703956  6.006032  3.971268  ...             12.836997   \n",
       "8   8.589349  5.709215  4.082304  ...             12.554581   \n",
       "9   8.658899  5.878510  3.882794  ...             13.096321   \n",
       "10  7.783212  5.456373  4.150409  ...             13.073143   \n",
       "11  8.040601  5.766471  3.908121  ...             12.982161   \n",
       "12  7.783765  5.686493  3.795845  ...             12.943626   \n",
       "13  8.113560  5.801688  4.688849  ...             12.890205   \n",
       "14  7.317026  5.729861  4.544887  ...             12.953009   \n",
       "15  8.753275  5.670232  4.328350  ...             12.578102   \n",
       "16  8.218307  5.627874  4.347274  ...             12.785654   \n",
       "17  8.182826  5.648249  4.288243  ...             12.945286   \n",
       "18  7.706881  5.644992  4.316861  ...             12.825875   \n",
       "19  8.683055  5.362736  4.456565  ...             12.854083   \n",
       "20  7.779023  5.776985  4.655236  ...             13.077044   \n",
       "21  7.866667  5.960437  4.587462  ...             12.814743   \n",
       "22  7.964125  5.659421  4.351449  ...             13.128373   \n",
       "23  7.890859  6.548243  4.372212  ...             12.830206   \n",
       "24  6.983681  6.389295  4.503542  ...             12.898459   \n",
       "25  7.872428  5.943501  4.631994  ...             13.080081   \n",
       "26  8.167042  5.626840  4.453512  ...             12.886995   \n",
       "27  8.514607  5.503654  4.351038  ...             12.919937   \n",
       "28  7.516822  5.828484  4.583079  ...             13.303937   \n",
       "29  7.679043  6.037340  4.370033  ...             13.429272   \n",
       "30  8.251979  5.998911  4.822066  ...             13.799515   \n",
       "31  9.077543  6.136680  4.584504  ...             13.034504   \n",
       "32  7.956075  5.590336  4.347846  ...             12.738776   \n",
       "33  7.104613  5.554681  4.505548  ...             12.984381   \n",
       "34  7.738460  5.867708  4.426486  ...             12.939693   \n",
       "35  7.918081  6.195784  4.522334  ...             13.424468   \n",
       "36  7.869060  6.017843  4.207363  ...             12.967089   \n",
       "37  8.167174  6.141597  4.088115  ...             12.724064   \n",
       "38  7.754347  5.851994  4.121563  ...             12.830099   \n",
       "39  7.613728  5.861003  4.568460  ...             12.943626   \n",
       "40  7.460327  5.705540  4.379972  ...             13.008178   \n",
       "41  7.632981  6.287540  4.307373  ...             13.190825   \n",
       "42  8.139250  6.163517  4.573479  ...             12.961786   \n",
       "43  7.759758  6.735500  3.986828  ...             12.825976   \n",
       "44  8.130843  6.278704  4.250273  ...             12.784188   \n",
       "45  8.885811  5.820120  4.121008  ...             12.703064   \n",
       "\n",
       "    AFFX-r2-Ec-bioD-5_at  AFFX-r2-P1-cre-3_at  AFFX-r2-P1-cre-5_at  \\\n",
       "0              12.152497            14.064551            14.008521   \n",
       "1              12.262868            14.199057            14.067155   \n",
       "2              12.258528            14.119245            13.998612   \n",
       "3              12.305348            14.079714            14.033668   \n",
       "4              12.362886            14.129486            14.199905   \n",
       "5              12.231378            14.215266            14.176641   \n",
       "6              12.384470            14.309715            14.205636   \n",
       "7              12.193247            14.104228            13.941464   \n",
       "8              11.922574            14.085665            13.865839   \n",
       "9              12.441207            14.240552            14.151770   \n",
       "10             12.364169            14.223619            13.997827   \n",
       "11             12.262868            14.158757            14.018889   \n",
       "12             12.212479            14.236658            14.076025   \n",
       "13             12.161655            14.096051            13.972378   \n",
       "14             12.419834            14.054389            13.986243   \n",
       "15             11.937070            13.860728            13.850135   \n",
       "16             12.347186            14.044970            13.992533   \n",
       "17             12.258968            14.059082            13.976649   \n",
       "18             12.306357            14.027905            13.940876   \n",
       "19             12.222247            13.929328            13.896642   \n",
       "20             12.376070            14.078318            14.046944   \n",
       "21             12.165436            14.031770            13.956524   \n",
       "22             12.595861            14.128198            14.021179   \n",
       "23             12.213853            14.015382            13.922606   \n",
       "24             12.108219            14.112718            14.045027   \n",
       "25             12.327708            14.112279            14.079509   \n",
       "26             12.310674            14.081438            14.059465   \n",
       "27             12.267385            14.133943            14.086215   \n",
       "28             12.533370            14.095418            14.031559   \n",
       "29             12.684476            14.137348            14.073425   \n",
       "30             13.094707            14.308664            14.265886   \n",
       "31             12.234616            14.124443            14.037783   \n",
       "32             11.873473            13.905016            13.764443   \n",
       "33             12.144690            13.964042            13.831974   \n",
       "34             12.111504            13.978002            13.861626   \n",
       "35             12.601969            14.233961            14.126192   \n",
       "36             12.269262            14.087613            13.921562   \n",
       "37             12.197321            14.117278            14.055453   \n",
       "38             12.357760            14.092287            13.973866   \n",
       "39             12.399168            14.264288            14.118976   \n",
       "40             12.451096            14.248782            14.149545   \n",
       "41             12.476159            14.247693            14.125519   \n",
       "42             12.262868            14.036705            13.981663   \n",
       "43             12.176061            14.208133            14.097343   \n",
       "44             12.148593            14.150345            14.006637   \n",
       "45             12.028614            14.108007            13.973548   \n",
       "\n",
       "    AFFX-ThrX-3_at  AFFX-ThrX-5_at  AFFX-ThrX-M_at  AFFX-TrpnX-3_at  \\\n",
       "0         4.705099        3.885165        3.543180         2.830503   \n",
       "1         9.681597        7.461119        8.625853         2.899173   \n",
       "2         9.308821        7.345589        7.909484         2.874595   \n",
       "3         7.806293        5.474921        6.469318         3.003693   \n",
       "4         8.237609        5.254592        6.918730         3.041982   \n",
       "5         8.254922        5.402718        6.812010         2.831513   \n",
       "6         8.992892        7.191203        7.989721         2.896852   \n",
       "7         7.000581        4.450398        5.300531         2.652451   \n",
       "8         6.785325        4.208064        5.101862         2.989375   \n",
       "9         7.081755        5.034908        5.857650         2.794530   \n",
       "10        5.952588        3.718787        4.377116         3.025471   \n",
       "11        5.801450        3.752724        4.414620         2.861415   \n",
       "12        7.683878        5.845499        6.637606         2.774935   \n",
       "13        4.582666        4.189931        3.580660         2.888354   \n",
       "14        4.555940        3.677716        3.307280         2.801092   \n",
       "15        4.800439        3.969768        3.545915         2.948082   \n",
       "16        4.320227        3.716736        3.281990         2.562840   \n",
       "17        4.616564        3.850084        3.054351         2.673262   \n",
       "18        4.600059        3.915199        3.329913         2.702751   \n",
       "19        4.647683        3.668272        3.403422         2.832725   \n",
       "20        4.606900        4.032000        3.363352         2.916342   \n",
       "21        4.569798        3.695191        3.177971         2.741393   \n",
       "22        4.528822        3.651910        3.270733         2.808511   \n",
       "23        8.083470        5.641497        6.135795         2.838983   \n",
       "24        4.540025        4.059054        3.521245         2.997563   \n",
       "25        4.502241        3.956651        3.211436         2.649808   \n",
       "26        4.498544        3.890586        3.365919         2.765795   \n",
       "27        4.359529        3.695626        3.276886         2.772123   \n",
       "28        4.830930        4.059737        3.273940         2.965829   \n",
       "29        4.726471        3.788292        3.261744         2.980881   \n",
       "30        4.891675        4.169597        3.271093         3.042062   \n",
       "31        4.410637        3.828926        3.208563         2.843825   \n",
       "32        4.588541        3.572628        3.256923         2.910040   \n",
       "33        4.558213        3.956324        3.130491         3.048906   \n",
       "34        4.957428        3.819971        3.357777         2.712747   \n",
       "35        4.756310        3.600998        3.498368         2.837281   \n",
       "36        4.363570        3.833725        3.210292         2.887592   \n",
       "37        7.080774        4.763754        5.149368         2.764788   \n",
       "38        4.392090        3.898049        3.285421         2.722889   \n",
       "39        4.615173        3.821971        3.336847         2.766128   \n",
       "40        4.108796        4.093986        3.306135         2.801020   \n",
       "41        4.415224        3.794720        3.412791         2.809652   \n",
       "42        4.707951        3.871494        3.391916         2.862409   \n",
       "43        8.116206        6.553073        7.330549         2.683583   \n",
       "44        8.286777        6.556379        7.274616         2.892980   \n",
       "45        7.927775        6.090055        6.652056         2.879888   \n",
       "\n",
       "    AFFX-TrpnX-5_at  AFFX-TrpnX-M_at  \n",
       "0          3.617848         3.277917  \n",
       "1          3.513921         3.250303  \n",
       "2          3.624569         3.213841  \n",
       "3          3.343421         3.208317  \n",
       "4          3.572885         3.124638  \n",
       "5          3.685706         3.182729  \n",
       "6          3.453444         3.195164  \n",
       "7          3.512295         3.038555  \n",
       "8          3.598697         3.340078  \n",
       "9          3.538758         3.238705  \n",
       "10         3.508872         3.018213  \n",
       "11         3.614577         3.176386  \n",
       "12         3.641042         3.352958  \n",
       "13         3.615477         3.437033  \n",
       "14         3.532124         3.231215  \n",
       "15         3.913077         3.433984  \n",
       "16         3.612962         3.330206  \n",
       "17         3.517098         3.294601  \n",
       "18         3.664910         3.117434  \n",
       "19         3.565342         3.245853  \n",
       "20         3.554761         3.243707  \n",
       "21         3.587095         3.220293  \n",
       "22         3.611946         3.163375  \n",
       "23         3.676150         3.272008  \n",
       "24         3.793700         3.388810  \n",
       "25         3.569181         3.085234  \n",
       "26         3.719391         3.155977  \n",
       "27         3.735677         3.257605  \n",
       "28         3.784864         3.142551  \n",
       "29         3.801044         3.363499  \n",
       "30         3.855226         3.445765  \n",
       "31         3.777187         3.203704  \n",
       "32         3.656499         3.304829  \n",
       "33         3.656236         3.286031  \n",
       "34         3.720508         3.187619  \n",
       "35         4.067284         3.191505  \n",
       "36         3.441886         3.367418  \n",
       "37         3.520711         3.320865  \n",
       "38         3.779876         3.403215  \n",
       "39         3.839208         3.447174  \n",
       "40         3.800522         3.230039  \n",
       "41         3.606516         3.207774  \n",
       "42         3.577824         3.199937  \n",
       "43         3.418432         3.287226  \n",
       "44         3.617113         3.333452  \n",
       "45         3.733172         3.315962  \n",
       "\n",
       "[46 rows x 54677 columns]"
      ]
     },
     "execution_count": 5,
     "metadata": {},
     "output_type": "execute_result"
    }
   ],
   "source": [
    "df.dropna()"
   ]
  },
  {
   "cell_type": "code",
   "execution_count": 6,
   "metadata": {},
   "outputs": [
    {
     "data": {
      "text/plain": [
       "0"
      ]
     },
     "execution_count": 6,
     "metadata": {},
     "output_type": "execute_result"
    }
   ],
   "source": [
    "df.type.isnull().sum()"
   ]
  },
  {
   "cell_type": "code",
   "execution_count": 7,
   "metadata": {},
   "outputs": [],
   "source": [
    "DF_RM_DUP = df.drop_duplicates()"
   ]
  },
  {
   "cell_type": "code",
   "execution_count": 8,
   "metadata": {},
   "outputs": [],
   "source": [
    "dft=df.drop(columns = ['samples'])"
   ]
  },
  {
   "cell_type": "code",
   "execution_count": 9,
   "metadata": {},
   "outputs": [
    {
     "data": {
      "text/html": [
       "<div>\n",
       "<style scoped>\n",
       "    .dataframe tbody tr th:only-of-type {\n",
       "        vertical-align: middle;\n",
       "    }\n",
       "\n",
       "    .dataframe tbody tr th {\n",
       "        vertical-align: top;\n",
       "    }\n",
       "\n",
       "    .dataframe thead th {\n",
       "        text-align: right;\n",
       "    }\n",
       "</style>\n",
       "<table border=\"1\" class=\"dataframe\">\n",
       "  <thead>\n",
       "    <tr style=\"text-align: right;\">\n",
       "      <th></th>\n",
       "      <th>type</th>\n",
       "      <th>1007_s_at</th>\n",
       "      <th>1053_at</th>\n",
       "      <th>117_at</th>\n",
       "      <th>121_at</th>\n",
       "      <th>1255_g_at</th>\n",
       "      <th>1294_at</th>\n",
       "      <th>1316_at</th>\n",
       "      <th>1320_at</th>\n",
       "      <th>1405_i_at</th>\n",
       "      <th>...</th>\n",
       "      <th>AFFX-r2-Ec-bioD-3_at</th>\n",
       "      <th>AFFX-r2-Ec-bioD-5_at</th>\n",
       "      <th>AFFX-r2-P1-cre-3_at</th>\n",
       "      <th>AFFX-r2-P1-cre-5_at</th>\n",
       "      <th>AFFX-ThrX-3_at</th>\n",
       "      <th>AFFX-ThrX-5_at</th>\n",
       "      <th>AFFX-ThrX-M_at</th>\n",
       "      <th>AFFX-TrpnX-3_at</th>\n",
       "      <th>AFFX-TrpnX-5_at</th>\n",
       "      <th>AFFX-TrpnX-M_at</th>\n",
       "    </tr>\n",
       "  </thead>\n",
       "  <tbody>\n",
       "    <tr>\n",
       "      <th>0</th>\n",
       "      <td>JMML</td>\n",
       "      <td>6.581923</td>\n",
       "      <td>6.973938</td>\n",
       "      <td>6.241571</td>\n",
       "      <td>8.169811</td>\n",
       "      <td>3.101444</td>\n",
       "      <td>7.521992</td>\n",
       "      <td>5.572300</td>\n",
       "      <td>4.746571</td>\n",
       "      <td>9.879799</td>\n",
       "      <td>...</td>\n",
       "      <td>12.777497</td>\n",
       "      <td>12.152497</td>\n",
       "      <td>14.064551</td>\n",
       "      <td>14.008521</td>\n",
       "      <td>4.705099</td>\n",
       "      <td>3.885165</td>\n",
       "      <td>3.543180</td>\n",
       "      <td>2.830503</td>\n",
       "      <td>3.617848</td>\n",
       "      <td>3.277917</td>\n",
       "    </tr>\n",
       "    <tr>\n",
       "      <th>1</th>\n",
       "      <td>JMML</td>\n",
       "      <td>5.666901</td>\n",
       "      <td>8.268696</td>\n",
       "      <td>7.488496</td>\n",
       "      <td>7.366530</td>\n",
       "      <td>2.789599</td>\n",
       "      <td>8.256894</td>\n",
       "      <td>5.762561</td>\n",
       "      <td>4.074388</td>\n",
       "      <td>8.943661</td>\n",
       "      <td>...</td>\n",
       "      <td>12.998342</td>\n",
       "      <td>12.262868</td>\n",
       "      <td>14.199057</td>\n",
       "      <td>14.067155</td>\n",
       "      <td>9.681597</td>\n",
       "      <td>7.461119</td>\n",
       "      <td>8.625853</td>\n",
       "      <td>2.899173</td>\n",
       "      <td>3.513921</td>\n",
       "      <td>3.250303</td>\n",
       "    </tr>\n",
       "    <tr>\n",
       "      <th>2</th>\n",
       "      <td>JMML</td>\n",
       "      <td>5.789441</td>\n",
       "      <td>7.909938</td>\n",
       "      <td>6.067253</td>\n",
       "      <td>7.707432</td>\n",
       "      <td>2.814913</td>\n",
       "      <td>7.746754</td>\n",
       "      <td>6.244444</td>\n",
       "      <td>4.086219</td>\n",
       "      <td>8.908216</td>\n",
       "      <td>...</td>\n",
       "      <td>13.037606</td>\n",
       "      <td>12.258528</td>\n",
       "      <td>14.119245</td>\n",
       "      <td>13.998612</td>\n",
       "      <td>9.308821</td>\n",
       "      <td>7.345589</td>\n",
       "      <td>7.909484</td>\n",
       "      <td>2.874595</td>\n",
       "      <td>3.624569</td>\n",
       "      <td>3.213841</td>\n",
       "    </tr>\n",
       "    <tr>\n",
       "      <th>3</th>\n",
       "      <td>JMML</td>\n",
       "      <td>6.208105</td>\n",
       "      <td>6.642045</td>\n",
       "      <td>6.724232</td>\n",
       "      <td>7.610161</td>\n",
       "      <td>2.904125</td>\n",
       "      <td>7.897570</td>\n",
       "      <td>5.611011</td>\n",
       "      <td>4.102048</td>\n",
       "      <td>11.388490</td>\n",
       "      <td>...</td>\n",
       "      <td>13.027382</td>\n",
       "      <td>12.305348</td>\n",
       "      <td>14.079714</td>\n",
       "      <td>14.033668</td>\n",
       "      <td>7.806293</td>\n",
       "      <td>5.474921</td>\n",
       "      <td>6.469318</td>\n",
       "      <td>3.003693</td>\n",
       "      <td>3.343421</td>\n",
       "      <td>3.208317</td>\n",
       "    </tr>\n",
       "    <tr>\n",
       "      <th>4</th>\n",
       "      <td>JMML</td>\n",
       "      <td>5.222456</td>\n",
       "      <td>8.064864</td>\n",
       "      <td>6.692422</td>\n",
       "      <td>7.543151</td>\n",
       "      <td>2.897822</td>\n",
       "      <td>8.095859</td>\n",
       "      <td>6.153365</td>\n",
       "      <td>3.923472</td>\n",
       "      <td>10.201796</td>\n",
       "      <td>...</td>\n",
       "      <td>12.875292</td>\n",
       "      <td>12.362886</td>\n",
       "      <td>14.129486</td>\n",
       "      <td>14.199905</td>\n",
       "      <td>8.237609</td>\n",
       "      <td>5.254592</td>\n",
       "      <td>6.918730</td>\n",
       "      <td>3.041982</td>\n",
       "      <td>3.572885</td>\n",
       "      <td>3.124638</td>\n",
       "    </tr>\n",
       "  </tbody>\n",
       "</table>\n",
       "<p>5 rows × 54676 columns</p>\n",
       "</div>"
      ],
      "text/plain": [
       "   type  1007_s_at   1053_at    117_at    121_at  1255_g_at   1294_at  \\\n",
       "0  JMML   6.581923  6.973938  6.241571  8.169811   3.101444  7.521992   \n",
       "1  JMML   5.666901  8.268696  7.488496  7.366530   2.789599  8.256894   \n",
       "2  JMML   5.789441  7.909938  6.067253  7.707432   2.814913  7.746754   \n",
       "3  JMML   6.208105  6.642045  6.724232  7.610161   2.904125  7.897570   \n",
       "4  JMML   5.222456  8.064864  6.692422  7.543151   2.897822  8.095859   \n",
       "\n",
       "    1316_at   1320_at  1405_i_at  ...  AFFX-r2-Ec-bioD-3_at  \\\n",
       "0  5.572300  4.746571   9.879799  ...             12.777497   \n",
       "1  5.762561  4.074388   8.943661  ...             12.998342   \n",
       "2  6.244444  4.086219   8.908216  ...             13.037606   \n",
       "3  5.611011  4.102048  11.388490  ...             13.027382   \n",
       "4  6.153365  3.923472  10.201796  ...             12.875292   \n",
       "\n",
       "   AFFX-r2-Ec-bioD-5_at  AFFX-r2-P1-cre-3_at  AFFX-r2-P1-cre-5_at  \\\n",
       "0             12.152497            14.064551            14.008521   \n",
       "1             12.262868            14.199057            14.067155   \n",
       "2             12.258528            14.119245            13.998612   \n",
       "3             12.305348            14.079714            14.033668   \n",
       "4             12.362886            14.129486            14.199905   \n",
       "\n",
       "   AFFX-ThrX-3_at  AFFX-ThrX-5_at  AFFX-ThrX-M_at  AFFX-TrpnX-3_at  \\\n",
       "0        4.705099        3.885165        3.543180         2.830503   \n",
       "1        9.681597        7.461119        8.625853         2.899173   \n",
       "2        9.308821        7.345589        7.909484         2.874595   \n",
       "3        7.806293        5.474921        6.469318         3.003693   \n",
       "4        8.237609        5.254592        6.918730         3.041982   \n",
       "\n",
       "   AFFX-TrpnX-5_at  AFFX-TrpnX-M_at  \n",
       "0         3.617848         3.277917  \n",
       "1         3.513921         3.250303  \n",
       "2         3.624569         3.213841  \n",
       "3         3.343421         3.208317  \n",
       "4         3.572885         3.124638  \n",
       "\n",
       "[5 rows x 54676 columns]"
      ]
     },
     "execution_count": 9,
     "metadata": {},
     "output_type": "execute_result"
    }
   ],
   "source": [
    "dft.head()"
   ]
  },
  {
   "cell_type": "code",
   "execution_count": 10,
   "metadata": {},
   "outputs": [],
   "source": [
    "ord_enc = OrdinalEncoder()\n",
    "dft[\"type\"] = ord_enc.fit_transform(dft[[\"type\"]])"
   ]
  },
  {
   "cell_type": "code",
   "execution_count": 11,
   "metadata": {},
   "outputs": [],
   "source": [
    "X=dft.drop(columns = ['type'])"
   ]
  },
  {
   "cell_type": "code",
   "execution_count": 12,
   "metadata": {},
   "outputs": [],
   "source": [
    "y=dft['type']\n",
    "y=pd.DataFrame(y)"
   ]
  },
  {
   "cell_type": "code",
   "execution_count": 13,
   "metadata": {},
   "outputs": [
    {
     "data": {
      "text/plain": [
       "<AxesSubplot:xlabel='type'>"
      ]
     },
     "execution_count": 13,
     "metadata": {},
     "output_type": "execute_result"
    },
    {
     "data": {
      "image/png": "[encoded data removed]",
      "text/plain": [
       "<Figure size 432x288 with 1 Axes>"
      ]
     },
     "metadata": {
      "needs_background": "light"
     },
     "output_type": "display_data"
    }
   ],
   "source": [
    "y.value_counts().plot(kind=\"bar\")"
   ]
  },
  {
   "cell_type": "markdown",
   "metadata": {},
   "source": [
    "# work with features as full data & classes or target for it's output"
   ]
  },
  {
   "cell_type": "code",
   "execution_count": 227,
   "metadata": {},
   "outputs": [],
   "source": [
    "kfold=KFold(n_splits=10, random_state=42, shuffle=True)"
   ]
  },
  {
   "cell_type": "markdown",
   "metadata": {},
   "source": [
    "# GridSearch Implementation "
   ]
  },
  {
   "cell_type": "markdown",
   "metadata": {},
   "source": [
    "## Knn"
   ]
  },
  {
   "cell_type": "code",
   "execution_count": 228,
   "metadata": {},
   "outputs": [],
   "source": [
    "kn_classifier = KNeighborsClassifier()"
   ]
  },
  {
   "cell_type": "code",
   "execution_count": 229,
   "metadata": {},
   "outputs": [],
   "source": [
    "param_grid_kn = {   \n",
    "    'n_neighbors':[1,3,5,7,9,11,13,15],\n",
    "    'weights':['uniform','distance'],\n",
    "    'leaf_size':[10,30,],\n",
    "}"
   ]
  },
  {
   "cell_type": "code",
   "execution_count": 230,
   "metadata": {},
   "outputs": [],
   "source": [
    "kn_tuned =GridSearchCV(kn_classifier,param_grid=param_grid_kn, cv=kfold, verbose=2, n_jobs=4,scoring =\"accuracy\")"
   ]
  },
  {
   "cell_type": "code",
   "execution_count": 231,
   "metadata": {},
   "outputs": [
    {
     "name": "stdout",
     "output_type": "stream",
     "text": [
      "Fitting 10 folds for each of 32 candidates, totalling 320 fits\n"
     ]
    },
    {
     "data": {
      "text/html": [
       "<style>#sk-container-id-38 {color: black;background-color: white;}#sk-container-id-38 pre{padding: 0;}#sk-container-id-38 div.sk-toggleable {background-color: white;}#sk-container-id-38 label.sk-toggleable__label {cursor: pointer;display: block;width: 100%;margin-bottom: 0;padding: 0.3em;box-sizing: border-box;text-align: center;}#sk-container-id-38 label.sk-toggleable__label-arrow:before {content: \"▸\";float: left;margin-right: 0.25em;color: #696969;}#sk-container-id-38 label.sk-toggleable__label-arrow:hover:before {color: black;}#sk-container-id-38 div.sk-estimator:hover label.sk-toggleable__label-arrow:before {color: black;}#sk-container-id-38 div.sk-toggleable__content {max-height: 0;max-width: 0;overflow: hidden;text-align: left;background-color: #f0f8ff;}#sk-container-id-38 div.sk-toggleable__content pre {margin: 0.2em;color: black;border-radius: 0.25em;background-color: #f0f8ff;}#sk-container-id-38 input.sk-toggleable__control:checked~div.sk-toggleable__content {max-height: 200px;max-width: 100%;overflow: auto;}#sk-container-id-38 input.sk-toggleable__control:checked~label.sk-toggleable__label-arrow:before {content: \"▾\";}#sk-container-id-38 div.sk-estimator input.sk-toggleable__control:checked~label.sk-toggleable__label {background-color: #d4ebff;}#sk-container-id-38 div.sk-label input.sk-toggleable__control:checked~label.sk-toggleable__label {background-color: #d4ebff;}#sk-container-id-38 input.sk-hidden--visually {border: 0;clip: rect(1px 1px 1px 1px);clip: rect(1px, 1px, 1px, 1px);height: 1px;margin: -1px;overflow: hidden;padding: 0;position: absolute;width: 1px;}#sk-container-id-38 div.sk-estimator {font-family: monospace;background-color: #f0f8ff;border: 1px dotted black;border-radius: 0.25em;box-sizing: border-box;margin-bottom: 0.5em;}#sk-container-id-38 div.sk-estimator:hover {background-color: #d4ebff;}#sk-container-id-38 div.sk-parallel-item::after {content: \"\";width: 100%;border-bottom: 1px solid gray;flex-grow: 1;}#sk-container-id-38 div.sk-label:hover label.sk-toggleable__label {background-color: #d4ebff;}#sk-container-id-38 div.sk-serial::before {content: \"\";position: absolute;border-left: 1px solid gray;box-sizing: border-box;top: 0;bottom: 0;left: 50%;z-index: 0;}#sk-container-id-38 div.sk-serial {display: flex;flex-direction: column;align-items: center;background-color: white;padding-right: 0.2em;padding-left: 0.2em;position: relative;}#sk-container-id-38 div.sk-item {position: relative;z-index: 1;}#sk-container-id-38 div.sk-parallel {display: flex;align-items: stretch;justify-content: center;background-color: white;position: relative;}#sk-container-id-38 div.sk-item::before, #sk-container-id-38 div.sk-parallel-item::before {content: \"\";position: absolute;border-left: 1px solid gray;box-sizing: border-box;top: 0;bottom: 0;left: 50%;z-index: -1;}#sk-container-id-38 div.sk-parallel-item {display: flex;flex-direction: column;z-index: 1;position: relative;background-color: white;}#sk-container-id-38 div.sk-parallel-item:first-child::after {align-self: flex-end;width: 50%;}#sk-container-id-38 div.sk-parallel-item:last-child::after {align-self: flex-start;width: 50%;}#sk-container-id-38 div.sk-parallel-item:only-child::after {width: 0;}#sk-container-id-38 div.sk-dashed-wrapped {border: 1px dashed gray;margin: 0 0.4em 0.5em 0.4em;box-sizing: border-box;padding-bottom: 0.4em;background-color: white;}#sk-container-id-38 div.sk-label label {font-family: monospace;font-weight: bold;display: inline-block;line-height: 1.2em;}#sk-container-id-38 div.sk-label-container {text-align: center;}#sk-container-id-38 div.sk-container {/* jupyter's `normalize.less` sets `[hidden] { display: none; }` but bootstrap.min.css set `[hidden] { display: none !important; }` so we also need the `!important` here to be able to override the default hidden behavior on the sphinx rendered scikit-learn.org. See: https://github.com/scikit-learn/scikit-learn/issues/21755 */display: inline-block !important;position: relative;}#sk-container-id-38 div.sk-text-repr-fallback {display: none;}</style><div id=\"sk-container-id-38\" class=\"sk-top-container\"><div class=\"sk-text-repr-fallback\"><pre>GridSearchCV(cv=KFold(n_splits=10, random_state=42, shuffle=True),\n",
       "             estimator=KNeighborsClassifier(), n_jobs=4,\n",
       "             param_grid={&#x27;leaf_size&#x27;: [10, 30],\n",
       "                         &#x27;n_neighbors&#x27;: [1, 3, 5, 7, 9, 11, 13, 15],\n",
       "                         &#x27;weights&#x27;: [&#x27;uniform&#x27;, &#x27;distance&#x27;]},\n",
       "             scoring=&#x27;accuracy&#x27;, verbose=2)</pre><b>In a Jupyter environment, please rerun this cell to show the HTML representation or trust the notebook. <br />On GitHub, the HTML representation is unable to render, please try loading this page with nbviewer.org.</b></div><div class=\"sk-container\" hidden><div class=\"sk-item sk-dashed-wrapped\"><div class=\"sk-label-container\"><div class=\"sk-label sk-toggleable\"><input class=\"sk-toggleable__control sk-hidden--visually\" id=\"sk-estimator-id-46\" type=\"checkbox\" ><label for=\"sk-estimator-id-46\" class=\"sk-toggleable__label sk-toggleable__label-arrow\">GridSearchCV</label><div class=\"sk-toggleable__content\"><pre>GridSearchCV(cv=KFold(n_splits=10, random_state=42, shuffle=True),\n",
       "             estimator=KNeighborsClassifier(), n_jobs=4,\n",
       "             param_grid={&#x27;leaf_size&#x27;: [10, 30],\n",
       "                         &#x27;n_neighbors&#x27;: [1, 3, 5, 7, 9, 11, 13, 15],\n",
       "                         &#x27;weights&#x27;: [&#x27;uniform&#x27;, &#x27;distance&#x27;]},\n",
       "             scoring=&#x27;accuracy&#x27;, verbose=2)</pre></div></div></div><div class=\"sk-parallel\"><div class=\"sk-parallel-item\"><div class=\"sk-item\"><div class=\"sk-label-container\"><div class=\"sk-label sk-toggleable\"><input class=\"sk-toggleable__control sk-hidden--visually\" id=\"sk-estimator-id-47\" type=\"checkbox\" ><label for=\"sk-estimator-id-47\" class=\"sk-toggleable__label sk-toggleable__label-arrow\">estimator: KNeighborsClassifier</label><div class=\"sk-toggleable__content\"><pre>KNeighborsClassifier()</pre></div></div></div><div class=\"sk-serial\"><div class=\"sk-item\"><div class=\"sk-estimator sk-toggleable\"><input class=\"sk-toggleable__control sk-hidden--visually\" id=\"sk-estimator-id-48\" type=\"checkbox\" ><label for=\"sk-estimator-id-48\" class=\"sk-toggleable__label sk-toggleable__label-arrow\">KNeighborsClassifier</label><div class=\"sk-toggleable__content\"><pre>KNeighborsClassifier()</pre></div></div></div></div></div></div></div></div></div></div>"
      ],
      "text/plain": [
       "GridSearchCV(cv=KFold(n_splits=10, random_state=42, shuffle=True),\n",
       "             estimator=KNeighborsClassifier(), n_jobs=4,\n",
       "             param_grid={'leaf_size': [10, 30],\n",
       "                         'n_neighbors': [1, 3, 5, 7, 9, 11, 13, 15],\n",
       "                         'weights': ['uniform', 'distance']},\n",
       "             scoring='accuracy', verbose=2)"
      ]
     },
     "execution_count": 231,
     "metadata": {},
     "output_type": "execute_result"
    }
   ],
   "source": [
    "kn_tuned.fit(X, y.values.ravel())"
   ]
  },
  {
   "cell_type": "code",
   "execution_count": 232,
   "metadata": {},
   "outputs": [
    {
     "name": "stdout",
     "output_type": "stream",
     "text": [
      "0.9099999999999999\n",
      "{'leaf_size': 10, 'n_neighbors': 3, 'weights': 'uniform'}\n"
     ]
    }
   ],
   "source": [
    "print(kn_tuned.best_score_)\n",
    "print(kn_tuned.best_params_)"
   ]
  },
  {
   "cell_type": "markdown",
   "metadata": {},
   "source": [
    "## SVC"
   ]
  },
  {
   "cell_type": "code",
   "execution_count": 233,
   "metadata": {},
   "outputs": [],
   "source": [
    "svc_classifier = SVC()"
   ]
  },
  {
   "cell_type": "code",
   "execution_count": 234,
   "metadata": {},
   "outputs": [],
   "source": [
    "param_grid_svm = {\n",
    "    'C': [1,5,10,15,20,.1,30],\n",
    "    'gamma': [ 'scale','auto'],\n",
    "    'kernel': ['rbf','linear'],\n",
    "}"
   ]
  },
  {
   "cell_type": "code",
   "execution_count": 235,
   "metadata": {},
   "outputs": [],
   "source": [
    "svc_tuned =GridSearchCV(svc_classifier,param_grid=param_grid_svm,verbose=2, n_jobs=4,cv=kfold,scoring =\"accuracy\" )"
   ]
  },
  {
   "cell_type": "code",
   "execution_count": 236,
   "metadata": {},
   "outputs": [
    {
     "name": "stdout",
     "output_type": "stream",
     "text": [
      "Fitting 10 folds for each of 28 candidates, totalling 280 fits\n"
     ]
    },
    {
     "data": {
      "text/html": [
       "<style>#sk-container-id-39 {color: black;background-color: white;}#sk-container-id-39 pre{padding: 0;}#sk-container-id-39 div.sk-toggleable {background-color: white;}#sk-container-id-39 label.sk-toggleable__label {cursor: pointer;display: block;width: 100%;margin-bottom: 0;padding: 0.3em;box-sizing: border-box;text-align: center;}#sk-container-id-39 label.sk-toggleable__label-arrow:before {content: \"▸\";float: left;margin-right: 0.25em;color: #696969;}#sk-container-id-39 label.sk-toggleable__label-arrow:hover:before {color: black;}#sk-container-id-39 div.sk-estimator:hover label.sk-toggleable__label-arrow:before {color: black;}#sk-container-id-39 div.sk-toggleable__content {max-height: 0;max-width: 0;overflow: hidden;text-align: left;background-color: #f0f8ff;}#sk-container-id-39 div.sk-toggleable__content pre {margin: 0.2em;color: black;border-radius: 0.25em;background-color: #f0f8ff;}#sk-container-id-39 input.sk-toggleable__control:checked~div.sk-toggleable__content {max-height: 200px;max-width: 100%;overflow: auto;}#sk-container-id-39 input.sk-toggleable__control:checked~label.sk-toggleable__label-arrow:before {content: \"▾\";}#sk-container-id-39 div.sk-estimator input.sk-toggleable__control:checked~label.sk-toggleable__label {background-color: #d4ebff;}#sk-container-id-39 div.sk-label input.sk-toggleable__control:checked~label.sk-toggleable__label {background-color: #d4ebff;}#sk-container-id-39 input.sk-hidden--visually {border: 0;clip: rect(1px 1px 1px 1px);clip: rect(1px, 1px, 1px, 1px);height: 1px;margin: -1px;overflow: hidden;padding: 0;position: absolute;width: 1px;}#sk-container-id-39 div.sk-estimator {font-family: monospace;background-color: #f0f8ff;border: 1px dotted black;border-radius: 0.25em;box-sizing: border-box;margin-bottom: 0.5em;}#sk-container-id-39 div.sk-estimator:hover {background-color: #d4ebff;}#sk-container-id-39 div.sk-parallel-item::after {content: \"\";width: 100%;border-bottom: 1px solid gray;flex-grow: 1;}#sk-container-id-39 div.sk-label:hover label.sk-toggleable__label {background-color: #d4ebff;}#sk-container-id-39 div.sk-serial::before {content: \"\";position: absolute;border-left: 1px solid gray;box-sizing: border-box;top: 0;bottom: 0;left: 50%;z-index: 0;}#sk-container-id-39 div.sk-serial {display: flex;flex-direction: column;align-items: center;background-color: white;padding-right: 0.2em;padding-left: 0.2em;position: relative;}#sk-container-id-39 div.sk-item {position: relative;z-index: 1;}#sk-container-id-39 div.sk-parallel {display: flex;align-items: stretch;justify-content: center;background-color: white;position: relative;}#sk-container-id-39 div.sk-item::before, #sk-container-id-39 div.sk-parallel-item::before {content: \"\";position: absolute;border-left: 1px solid gray;box-sizing: border-box;top: 0;bottom: 0;left: 50%;z-index: -1;}#sk-container-id-39 div.sk-parallel-item {display: flex;flex-direction: column;z-index: 1;position: relative;background-color: white;}#sk-container-id-39 div.sk-parallel-item:first-child::after {align-self: flex-end;width: 50%;}#sk-container-id-39 div.sk-parallel-item:last-child::after {align-self: flex-start;width: 50%;}#sk-container-id-39 div.sk-parallel-item:only-child::after {width: 0;}#sk-container-id-39 div.sk-dashed-wrapped {border: 1px dashed gray;margin: 0 0.4em 0.5em 0.4em;box-sizing: border-box;padding-bottom: 0.4em;background-color: white;}#sk-container-id-39 div.sk-label label {font-family: monospace;font-weight: bold;display: inline-block;line-height: 1.2em;}#sk-container-id-39 div.sk-label-container {text-align: center;}#sk-container-id-39 div.sk-container {/* jupyter's `normalize.less` sets `[hidden] { display: none; }` but bootstrap.min.css set `[hidden] { display: none !important; }` so we also need the `!important` here to be able to override the default hidden behavior on the sphinx rendered scikit-learn.org. See: https://github.com/scikit-learn/scikit-learn/issues/21755 */display: inline-block !important;position: relative;}#sk-container-id-39 div.sk-text-repr-fallback {display: none;}</style><div id=\"sk-container-id-39\" class=\"sk-top-container\"><div class=\"sk-text-repr-fallback\"><pre>GridSearchCV(cv=KFold(n_splits=10, random_state=42, shuffle=True),\n",
       "             estimator=SVC(), n_jobs=4,\n",
       "             param_grid={&#x27;C&#x27;: [1, 5, 10, 15, 20, 0.1, 30],\n",
       "                         &#x27;gamma&#x27;: [&#x27;scale&#x27;, &#x27;auto&#x27;],\n",
       "                         &#x27;kernel&#x27;: [&#x27;rbf&#x27;, &#x27;linear&#x27;]},\n",
       "             scoring=&#x27;accuracy&#x27;, verbose=2)</pre><b>In a Jupyter environment, please rerun this cell to show the HTML representation or trust the notebook. <br />On GitHub, the HTML representation is unable to render, please try loading this page with nbviewer.org.</b></div><div class=\"sk-container\" hidden><div class=\"sk-item sk-dashed-wrapped\"><div class=\"sk-label-container\"><div class=\"sk-label sk-toggleable\"><input class=\"sk-toggleable__control sk-hidden--visually\" id=\"sk-estimator-id-49\" type=\"checkbox\" ><label for=\"sk-estimator-id-49\" class=\"sk-toggleable__label sk-toggleable__label-arrow\">GridSearchCV</label><div class=\"sk-toggleable__content\"><pre>GridSearchCV(cv=KFold(n_splits=10, random_state=42, shuffle=True),\n",
       "             estimator=SVC(), n_jobs=4,\n",
       "             param_grid={&#x27;C&#x27;: [1, 5, 10, 15, 20, 0.1, 30],\n",
       "                         &#x27;gamma&#x27;: [&#x27;scale&#x27;, &#x27;auto&#x27;],\n",
       "                         &#x27;kernel&#x27;: [&#x27;rbf&#x27;, &#x27;linear&#x27;]},\n",
       "             scoring=&#x27;accuracy&#x27;, verbose=2)</pre></div></div></div><div class=\"sk-parallel\"><div class=\"sk-parallel-item\"><div class=\"sk-item\"><div class=\"sk-label-container\"><div class=\"sk-label sk-toggleable\"><input class=\"sk-toggleable__control sk-hidden--visually\" id=\"sk-estimator-id-50\" type=\"checkbox\" ><label for=\"sk-estimator-id-50\" class=\"sk-toggleable__label sk-toggleable__label-arrow\">estimator: SVC</label><div class=\"sk-toggleable__content\"><pre>SVC()</pre></div></div></div><div class=\"sk-serial\"><div class=\"sk-item\"><div class=\"sk-estimator sk-toggleable\"><input class=\"sk-toggleable__control sk-hidden--visually\" id=\"sk-estimator-id-51\" type=\"checkbox\" ><label for=\"sk-estimator-id-51\" class=\"sk-toggleable__label sk-toggleable__label-arrow\">SVC</label><div class=\"sk-toggleable__content\"><pre>SVC()</pre></div></div></div></div></div></div></div></div></div></div>"
      ],
      "text/plain": [
       "GridSearchCV(cv=KFold(n_splits=10, random_state=42, shuffle=True),\n",
       "             estimator=SVC(), n_jobs=4,\n",
       "             param_grid={'C': [1, 5, 10, 15, 20, 0.1, 30],\n",
       "                         'gamma': ['scale', 'auto'],\n",
       "                         'kernel': ['rbf', 'linear']},\n",
       "             scoring='accuracy', verbose=2)"
      ]
     },
     "execution_count": 236,
     "metadata": {},
     "output_type": "execute_result"
    }
   ],
   "source": [
    "svc_tuned.fit(X,  y.values.ravel())"
   ]
  },
  {
   "cell_type": "code",
   "execution_count": 237,
   "metadata": {},
   "outputs": [
    {
     "name": "stdout",
     "output_type": "stream",
     "text": [
      "0.9349999999999999\n",
      "{'C': 1, 'gamma': 'scale', 'kernel': 'linear'}\n"
     ]
    }
   ],
   "source": [
    "print(svc_tuned.best_score_)\n",
    "print(svc_tuned.best_params_)"
   ]
  },
  {
   "cell_type": "markdown",
   "metadata": {},
   "source": [
    "# RF"
   ]
  },
  {
   "cell_type": "code",
   "execution_count": 238,
   "metadata": {},
   "outputs": [],
   "source": [
    "rf_classifier = RandomForestClassifier()"
   ]
  },
  {
   "cell_type": "code",
   "execution_count": 239,
   "metadata": {},
   "outputs": [],
   "source": [
    "param_grid_rf = {\n",
    "    'n_estimators': [20,40,60,80,],\n",
    "    'max_depth':[1,3,5,'none'],\n",
    "    'criterion':['gini','entropy',],\n",
    "    'max_features':['sqrt','log2',],\n",
    "    'random_state':[42],\n",
    "}"
   ]
  },
  {
   "cell_type": "code",
   "execution_count": 240,
   "metadata": {},
   "outputs": [],
   "source": [
    "rf_tuned = GridSearchCV(\n",
    "    rf_classifier, param_grid=param_grid_rf, cv=kfold, verbose=2, n_jobs=4,scoring =\"accuracy\" )"
   ]
  },
  {
   "cell_type": "code",
   "execution_count": 241,
   "metadata": {},
   "outputs": [
    {
     "name": "stdout",
     "output_type": "stream",
     "text": [
      "Fitting 10 folds for each of 80 candidates, totalling 800 fits\n"
     ]
    },
    {
     "data": {
      "text/html": [
       "<style>#sk-container-id-40 {color: black;background-color: white;}#sk-container-id-40 pre{padding: 0;}#sk-container-id-40 div.sk-toggleable {background-color: white;}#sk-container-id-40 label.sk-toggleable__label {cursor: pointer;display: block;width: 100%;margin-bottom: 0;padding: 0.3em;box-sizing: border-box;text-align: center;}#sk-container-id-40 label.sk-toggleable__label-arrow:before {content: \"▸\";float: left;margin-right: 0.25em;color: #696969;}#sk-container-id-40 label.sk-toggleable__label-arrow:hover:before {color: black;}#sk-container-id-40 div.sk-estimator:hover label.sk-toggleable__label-arrow:before {color: black;}#sk-container-id-40 div.sk-toggleable__content {max-height: 0;max-width: 0;overflow: hidden;text-align: left;background-color: #f0f8ff;}#sk-container-id-40 div.sk-toggleable__content pre {margin: 0.2em;color: black;border-radius: 0.25em;background-color: #f0f8ff;}#sk-container-id-40 input.sk-toggleable__control:checked~div.sk-toggleable__content {max-height: 200px;max-width: 100%;overflow: auto;}#sk-container-id-40 input.sk-toggleable__control:checked~label.sk-toggleable__label-arrow:before {content: \"▾\";}#sk-container-id-40 div.sk-estimator input.sk-toggleable__control:checked~label.sk-toggleable__label {background-color: #d4ebff;}#sk-container-id-40 div.sk-label input.sk-toggleable__control:checked~label.sk-toggleable__label {background-color: #d4ebff;}#sk-container-id-40 input.sk-hidden--visually {border: 0;clip: rect(1px 1px 1px 1px);clip: rect(1px, 1px, 1px, 1px);height: 1px;margin: -1px;overflow: hidden;padding: 0;position: absolute;width: 1px;}#sk-container-id-40 div.sk-estimator {font-family: monospace;background-color: #f0f8ff;border: 1px dotted black;border-radius: 0.25em;box-sizing: border-box;margin-bottom: 0.5em;}#sk-container-id-40 div.sk-estimator:hover {background-color: #d4ebff;}#sk-container-id-40 div.sk-parallel-item::after {content: \"\";width: 100%;border-bottom: 1px solid gray;flex-grow: 1;}#sk-container-id-40 div.sk-label:hover label.sk-toggleable__label {background-color: #d4ebff;}#sk-container-id-40 div.sk-serial::before {content: \"\";position: absolute;border-left: 1px solid gray;box-sizing: border-box;top: 0;bottom: 0;left: 50%;z-index: 0;}#sk-container-id-40 div.sk-serial {display: flex;flex-direction: column;align-items: center;background-color: white;padding-right: 0.2em;padding-left: 0.2em;position: relative;}#sk-container-id-40 div.sk-item {position: relative;z-index: 1;}#sk-container-id-40 div.sk-parallel {display: flex;align-items: stretch;justify-content: center;background-color: white;position: relative;}#sk-container-id-40 div.sk-item::before, #sk-container-id-40 div.sk-parallel-item::before {content: \"\";position: absolute;border-left: 1px solid gray;box-sizing: border-box;top: 0;bottom: 0;left: 50%;z-index: -1;}#sk-container-id-40 div.sk-parallel-item {display: flex;flex-direction: column;z-index: 1;position: relative;background-color: white;}#sk-container-id-40 div.sk-parallel-item:first-child::after {align-self: flex-end;width: 50%;}#sk-container-id-40 div.sk-parallel-item:last-child::after {align-self: flex-start;width: 50%;}#sk-container-id-40 div.sk-parallel-item:only-child::after {width: 0;}#sk-container-id-40 div.sk-dashed-wrapped {border: 1px dashed gray;margin: 0 0.4em 0.5em 0.4em;box-sizing: border-box;padding-bottom: 0.4em;background-color: white;}#sk-container-id-40 div.sk-label label {font-family: monospace;font-weight: bold;display: inline-block;line-height: 1.2em;}#sk-container-id-40 div.sk-label-container {text-align: center;}#sk-container-id-40 div.sk-container {/* jupyter's `normalize.less` sets `[hidden] { display: none; }` but bootstrap.min.css set `[hidden] { display: none !important; }` so we also need the `!important` here to be able to override the default hidden behavior on the sphinx rendered scikit-learn.org. See: https://github.com/scikit-learn/scikit-learn/issues/21755 */display: inline-block !important;position: relative;}#sk-container-id-40 div.sk-text-repr-fallback {display: none;}</style><div id=\"sk-container-id-40\" class=\"sk-top-container\"><div class=\"sk-text-repr-fallback\"><pre>GridSearchCV(cv=KFold(n_splits=10, random_state=42, shuffle=True),\n",
       "             estimator=RandomForestClassifier(), n_jobs=4,\n",
       "             param_grid={&#x27;criterion&#x27;: [&#x27;gini&#x27;, &#x27;entropy&#x27;],\n",
       "                         &#x27;max_depth&#x27;: [1, 3, 5, &#x27;none&#x27;],\n",
       "                         &#x27;max_features&#x27;: [&#x27;sqrt&#x27;, &#x27;log2&#x27;],\n",
       "                         &#x27;n_estimators&#x27;: [20, 40, 60, 80, 100],\n",
       "                         &#x27;random_state&#x27;: [42]},\n",
       "             scoring=&#x27;accuracy&#x27;, verbose=2)</pre><b>In a Jupyter environment, please rerun this cell to show the HTML representation or trust the notebook. <br />On GitHub, the HTML representation is unable to render, please try loading this page with nbviewer.org.</b></div><div class=\"sk-container\" hidden><div class=\"sk-item sk-dashed-wrapped\"><div class=\"sk-label-container\"><div class=\"sk-label sk-toggleable\"><input class=\"sk-toggleable__control sk-hidden--visually\" id=\"sk-estimator-id-52\" type=\"checkbox\" ><label for=\"sk-estimator-id-52\" class=\"sk-toggleable__label sk-toggleable__label-arrow\">GridSearchCV</label><div class=\"sk-toggleable__content\"><pre>GridSearchCV(cv=KFold(n_splits=10, random_state=42, shuffle=True),\n",
       "             estimator=RandomForestClassifier(), n_jobs=4,\n",
       "             param_grid={&#x27;criterion&#x27;: [&#x27;gini&#x27;, &#x27;entropy&#x27;],\n",
       "                         &#x27;max_depth&#x27;: [1, 3, 5, &#x27;none&#x27;],\n",
       "                         &#x27;max_features&#x27;: [&#x27;sqrt&#x27;, &#x27;log2&#x27;],\n",
       "                         &#x27;n_estimators&#x27;: [20, 40, 60, 80, 100],\n",
       "                         &#x27;random_state&#x27;: [42]},\n",
       "             scoring=&#x27;accuracy&#x27;, verbose=2)</pre></div></div></div><div class=\"sk-parallel\"><div class=\"sk-parallel-item\"><div class=\"sk-item\"><div class=\"sk-label-container\"><div class=\"sk-label sk-toggleable\"><input class=\"sk-toggleable__control sk-hidden--visually\" id=\"sk-estimator-id-53\" type=\"checkbox\" ><label for=\"sk-estimator-id-53\" class=\"sk-toggleable__label sk-toggleable__label-arrow\">estimator: RandomForestClassifier</label><div class=\"sk-toggleable__content\"><pre>RandomForestClassifier()</pre></div></div></div><div class=\"sk-serial\"><div class=\"sk-item\"><div class=\"sk-estimator sk-toggleable\"><input class=\"sk-toggleable__control sk-hidden--visually\" id=\"sk-estimator-id-54\" type=\"checkbox\" ><label for=\"sk-estimator-id-54\" class=\"sk-toggleable__label sk-toggleable__label-arrow\">RandomForestClassifier</label><div class=\"sk-toggleable__content\"><pre>RandomForestClassifier()</pre></div></div></div></div></div></div></div></div></div></div>"
      ],
      "text/plain": [
       "GridSearchCV(cv=KFold(n_splits=10, random_state=42, shuffle=True),\n",
       "             estimator=RandomForestClassifier(), n_jobs=4,\n",
       "             param_grid={'criterion': ['gini', 'entropy'],\n",
       "                         'max_depth': [1, 3, 5, 'none'],\n",
       "                         'max_features': ['sqrt', 'log2'],\n",
       "                         'n_estimators': [20, 40, 60, 80, 100],\n",
       "                         'random_state': [42]},\n",
       "             scoring='accuracy', verbose=2)"
      ]
     },
     "execution_count": 241,
     "metadata": {},
     "output_type": "execute_result"
    }
   ],
   "source": [
    "rf_tuned.fit(X,  y.values.ravel())"
   ]
  },
  {
   "cell_type": "code",
   "execution_count": 242,
   "metadata": {},
   "outputs": [
    {
     "name": "stdout",
     "output_type": "stream",
     "text": [
      "0.885\n",
      "{'criterion': 'gini', 'max_depth': 3, 'max_features': 'sqrt', 'n_estimators': 100, 'random_state': 42}\n"
     ]
    }
   ],
   "source": [
    "print(rf_tuned.best_score_)\n",
    "print(rf_tuned.best_params_)"
   ]
  },
  {
   "cell_type": "markdown",
   "metadata": {},
   "source": [
    "# Train Test Split :\n",
    "\n",
    "**we trained the features split percentages (Train: 65%, Test: 35%)**"
   ]
  },
  {
   "cell_type": "code",
   "execution_count": 824,
   "metadata": {},
   "outputs": [],
   "source": [
    "X_train, X_test, Y_train, Y_test = train_test_split(X, y, test_size=0.35, random_state=42,)"
   ]
  },
  {
   "cell_type": "markdown",
   "metadata": {},
   "source": [
    "## KNN"
   ]
  },
  {
   "cell_type": "code",
   "execution_count": 825,
   "metadata": {},
   "outputs": [],
   "source": [
    "knn=KNeighborsClassifier()"
   ]
  },
  {
   "cell_type": "code",
   "execution_count": 826,
   "metadata": {},
   "outputs": [
    {
     "data": {
      "text/html": [
       "<style>#sk-container-id-145 {color: black;background-color: white;}#sk-container-id-145 pre{padding: 0;}#sk-container-id-145 div.sk-toggleable {background-color: white;}#sk-container-id-145 label.sk-toggleable__label {cursor: pointer;display: block;width: 100%;margin-bottom: 0;padding: 0.3em;box-sizing: border-box;text-align: center;}#sk-container-id-145 label.sk-toggleable__label-arrow:before {content: \"▸\";float: left;margin-right: 0.25em;color: #696969;}#sk-container-id-145 label.sk-toggleable__label-arrow:hover:before {color: black;}#sk-container-id-145 div.sk-estimator:hover label.sk-toggleable__label-arrow:before {color: black;}#sk-container-id-145 div.sk-toggleable__content {max-height: 0;max-width: 0;overflow: hidden;text-align: left;background-color: #f0f8ff;}#sk-container-id-145 div.sk-toggleable__content pre {margin: 0.2em;color: black;border-radius: 0.25em;background-color: #f0f8ff;}#sk-container-id-145 input.sk-toggleable__control:checked~div.sk-toggleable__content {max-height: 200px;max-width: 100%;overflow: auto;}#sk-container-id-145 input.sk-toggleable__control:checked~label.sk-toggleable__label-arrow:before {content: \"▾\";}#sk-container-id-145 div.sk-estimator input.sk-toggleable__control:checked~label.sk-toggleable__label {background-color: #d4ebff;}#sk-container-id-145 div.sk-label input.sk-toggleable__control:checked~label.sk-toggleable__label {background-color: #d4ebff;}#sk-container-id-145 input.sk-hidden--visually {border: 0;clip: rect(1px 1px 1px 1px);clip: rect(1px, 1px, 1px, 1px);height: 1px;margin: -1px;overflow: hidden;padding: 0;position: absolute;width: 1px;}#sk-container-id-145 div.sk-estimator {font-family: monospace;background-color: #f0f8ff;border: 1px dotted black;border-radius: 0.25em;box-sizing: border-box;margin-bottom: 0.5em;}#sk-container-id-145 div.sk-estimator:hover {background-color: #d4ebff;}#sk-container-id-145 div.sk-parallel-item::after {content: \"\";width: 100%;border-bottom: 1px solid gray;flex-grow: 1;}#sk-container-id-145 div.sk-label:hover label.sk-toggleable__label {background-color: #d4ebff;}#sk-container-id-145 div.sk-serial::before {content: \"\";position: absolute;border-left: 1px solid gray;box-sizing: border-box;top: 0;bottom: 0;left: 50%;z-index: 0;}#sk-container-id-145 div.sk-serial {display: flex;flex-direction: column;align-items: center;background-color: white;padding-right: 0.2em;padding-left: 0.2em;position: relative;}#sk-container-id-145 div.sk-item {position: relative;z-index: 1;}#sk-container-id-145 div.sk-parallel {display: flex;align-items: stretch;justify-content: center;background-color: white;position: relative;}#sk-container-id-145 div.sk-item::before, #sk-container-id-145 div.sk-parallel-item::before {content: \"\";position: absolute;border-left: 1px solid gray;box-sizing: border-box;top: 0;bottom: 0;left: 50%;z-index: -1;}#sk-container-id-145 div.sk-parallel-item {display: flex;flex-direction: column;z-index: 1;position: relative;background-color: white;}#sk-container-id-145 div.sk-parallel-item:first-child::after {align-self: flex-end;width: 50%;}#sk-container-id-145 div.sk-parallel-item:last-child::after {align-self: flex-start;width: 50%;}#sk-container-id-145 div.sk-parallel-item:only-child::after {width: 0;}#sk-container-id-145 div.sk-dashed-wrapped {border: 1px dashed gray;margin: 0 0.4em 0.5em 0.4em;box-sizing: border-box;padding-bottom: 0.4em;background-color: white;}#sk-container-id-145 div.sk-label label {font-family: monospace;font-weight: bold;display: inline-block;line-height: 1.2em;}#sk-container-id-145 div.sk-label-container {text-align: center;}#sk-container-id-145 div.sk-container {/* jupyter's `normalize.less` sets `[hidden] { display: none; }` but bootstrap.min.css set `[hidden] { display: none !important; }` so we also need the `!important` here to be able to override the default hidden behavior on the sphinx rendered scikit-learn.org. See: https://github.com/scikit-learn/scikit-learn/issues/21755 */display: inline-block !important;position: relative;}#sk-container-id-145 div.sk-text-repr-fallback {display: none;}</style><div id=\"sk-container-id-145\" class=\"sk-top-container\"><div class=\"sk-text-repr-fallback\"><pre>KNeighborsClassifier()</pre><b>In a Jupyter environment, please rerun this cell to show the HTML representation or trust the notebook. <br />On GitHub, the HTML representation is unable to render, please try loading this page with nbviewer.org.</b></div><div class=\"sk-container\" hidden><div class=\"sk-item\"><div class=\"sk-estimator sk-toggleable\"><input class=\"sk-toggleable__control sk-hidden--visually\" id=\"sk-estimator-id-159\" type=\"checkbox\" checked><label for=\"sk-estimator-id-159\" class=\"sk-toggleable__label sk-toggleable__label-arrow\">KNeighborsClassifier</label><div class=\"sk-toggleable__content\"><pre>KNeighborsClassifier()</pre></div></div></div></div></div>"
      ],
      "text/plain": [
       "KNeighborsClassifier()"
      ]
     },
     "execution_count": 826,
     "metadata": {},
     "output_type": "execute_result"
    }
   ],
   "source": [
    "knn.fit(X_train,Y_train)"
   ]
  },
  {
   "cell_type": "code",
   "execution_count": 827,
   "metadata": {},
   "outputs": [
    {
     "data": {
      "text/plain": [
       "0.896551724137931"
      ]
     },
     "execution_count": 827,
     "metadata": {},
     "output_type": "execute_result"
    }
   ],
   "source": [
    "knn.score(X_train, Y_train) #Train Score"
   ]
  },
  {
   "cell_type": "code",
   "execution_count": 828,
   "metadata": {},
   "outputs": [
    {
     "data": {
      "text/plain": [
       "0.8235294117647058"
      ]
     },
     "execution_count": 828,
     "metadata": {},
     "output_type": "execute_result"
    }
   ],
   "source": [
    "KNNaccuracy=knn.score(X_test, Y_test) #Test Score\n",
    "KNNaccuracy"
   ]
  },
  {
   "cell_type": "code",
   "execution_count": 829,
   "metadata": {},
   "outputs": [
    {
     "name": "stdout",
     "output_type": "stream",
     "text": [
      "              precision    recall  f1-score   support\n",
      "\n",
      "         0.0       0.81      1.00      0.90        13\n",
      "         1.0       1.00      0.25      0.40         4\n",
      "\n",
      "    accuracy                           0.82        17\n",
      "   macro avg       0.91      0.62      0.65        17\n",
      "weighted avg       0.86      0.82      0.78        17\n",
      "\n"
     ]
    }
   ],
   "source": [
    "from sklearn.metrics import classification_report\n",
    "y_pred=knn.predict(X_test)\n",
    "print(classification_report(Y_test, y_pred))"
   ]
  },
  {
   "cell_type": "markdown",
   "metadata": {},
   "source": [
    "## svm"
   ]
  },
  {
   "cell_type": "code",
   "execution_count": 830,
   "metadata": {},
   "outputs": [],
   "source": [
    "svc =SVC()"
   ]
  },
  {
   "cell_type": "code",
   "execution_count": 831,
   "metadata": {},
   "outputs": [
    {
     "data": {
      "text/html": [
       "<style>#sk-container-id-146 {color: black;background-color: white;}#sk-container-id-146 pre{padding: 0;}#sk-container-id-146 div.sk-toggleable {background-color: white;}#sk-container-id-146 label.sk-toggleable__label {cursor: pointer;display: block;width: 100%;margin-bottom: 0;padding: 0.3em;box-sizing: border-box;text-align: center;}#sk-container-id-146 label.sk-toggleable__label-arrow:before {content: \"▸\";float: left;margin-right: 0.25em;color: #696969;}#sk-container-id-146 label.sk-toggleable__label-arrow:hover:before {color: black;}#sk-container-id-146 div.sk-estimator:hover label.sk-toggleable__label-arrow:before {color: black;}#sk-container-id-146 div.sk-toggleable__content {max-height: 0;max-width: 0;overflow: hidden;text-align: left;background-color: #f0f8ff;}#sk-container-id-146 div.sk-toggleable__content pre {margin: 0.2em;color: black;border-radius: 0.25em;background-color: #f0f8ff;}#sk-container-id-146 input.sk-toggleable__control:checked~div.sk-toggleable__content {max-height: 200px;max-width: 100%;overflow: auto;}#sk-container-id-146 input.sk-toggleable__control:checked~label.sk-toggleable__label-arrow:before {content: \"▾\";}#sk-container-id-146 div.sk-estimator input.sk-toggleable__control:checked~label.sk-toggleable__label {background-color: #d4ebff;}#sk-container-id-146 div.sk-label input.sk-toggleable__control:checked~label.sk-toggleable__label {background-color: #d4ebff;}#sk-container-id-146 input.sk-hidden--visually {border: 0;clip: rect(1px 1px 1px 1px);clip: rect(1px, 1px, 1px, 1px);height: 1px;margin: -1px;overflow: hidden;padding: 0;position: absolute;width: 1px;}#sk-container-id-146 div.sk-estimator {font-family: monospace;background-color: #f0f8ff;border: 1px dotted black;border-radius: 0.25em;box-sizing: border-box;margin-bottom: 0.5em;}#sk-container-id-146 div.sk-estimator:hover {background-color: #d4ebff;}#sk-container-id-146 div.sk-parallel-item::after {content: \"\";width: 100%;border-bottom: 1px solid gray;flex-grow: 1;}#sk-container-id-146 div.sk-label:hover label.sk-toggleable__label {background-color: #d4ebff;}#sk-container-id-146 div.sk-serial::before {content: \"\";position: absolute;border-left: 1px solid gray;box-sizing: border-box;top: 0;bottom: 0;left: 50%;z-index: 0;}#sk-container-id-146 div.sk-serial {display: flex;flex-direction: column;align-items: center;background-color: white;padding-right: 0.2em;padding-left: 0.2em;position: relative;}#sk-container-id-146 div.sk-item {position: relative;z-index: 1;}#sk-container-id-146 div.sk-parallel {display: flex;align-items: stretch;justify-content: center;background-color: white;position: relative;}#sk-container-id-146 div.sk-item::before, #sk-container-id-146 div.sk-parallel-item::before {content: \"\";position: absolute;border-left: 1px solid gray;box-sizing: border-box;top: 0;bottom: 0;left: 50%;z-index: -1;}#sk-container-id-146 div.sk-parallel-item {display: flex;flex-direction: column;z-index: 1;position: relative;background-color: white;}#sk-container-id-146 div.sk-parallel-item:first-child::after {align-self: flex-end;width: 50%;}#sk-container-id-146 div.sk-parallel-item:last-child::after {align-self: flex-start;width: 50%;}#sk-container-id-146 div.sk-parallel-item:only-child::after {width: 0;}#sk-container-id-146 div.sk-dashed-wrapped {border: 1px dashed gray;margin: 0 0.4em 0.5em 0.4em;box-sizing: border-box;padding-bottom: 0.4em;background-color: white;}#sk-container-id-146 div.sk-label label {font-family: monospace;font-weight: bold;display: inline-block;line-height: 1.2em;}#sk-container-id-146 div.sk-label-container {text-align: center;}#sk-container-id-146 div.sk-container {/* jupyter's `normalize.less` sets `[hidden] { display: none; }` but bootstrap.min.css set `[hidden] { display: none !important; }` so we also need the `!important` here to be able to override the default hidden behavior on the sphinx rendered scikit-learn.org. See: https://github.com/scikit-learn/scikit-learn/issues/21755 */display: inline-block !important;position: relative;}#sk-container-id-146 div.sk-text-repr-fallback {display: none;}</style><div id=\"sk-container-id-146\" class=\"sk-top-container\"><div class=\"sk-text-repr-fallback\"><pre>SVC()</pre><b>In a Jupyter environment, please rerun this cell to show the HTML representation or trust the notebook. <br />On GitHub, the HTML representation is unable to render, please try loading this page with nbviewer.org.</b></div><div class=\"sk-container\" hidden><div class=\"sk-item\"><div class=\"sk-estimator sk-toggleable\"><input class=\"sk-toggleable__control sk-hidden--visually\" id=\"sk-estimator-id-160\" type=\"checkbox\" checked><label for=\"sk-estimator-id-160\" class=\"sk-toggleable__label sk-toggleable__label-arrow\">SVC</label><div class=\"sk-toggleable__content\"><pre>SVC()</pre></div></div></div></div></div>"
      ],
      "text/plain": [
       "SVC()"
      ]
     },
     "execution_count": 831,
     "metadata": {},
     "output_type": "execute_result"
    }
   ],
   "source": [
    "svc.fit(X_train,Y_train)"
   ]
  },
  {
   "cell_type": "code",
   "execution_count": 832,
   "metadata": {},
   "outputs": [
    {
     "data": {
      "text/plain": [
       "0.8275862068965517"
      ]
     },
     "execution_count": 832,
     "metadata": {},
     "output_type": "execute_result"
    }
   ],
   "source": [
    "svc.score(X_train, Y_train) #Train Score"
   ]
  },
  {
   "cell_type": "code",
   "execution_count": 833,
   "metadata": {},
   "outputs": [
    {
     "data": {
      "text/plain": [
       "0.7647058823529411"
      ]
     },
     "execution_count": 833,
     "metadata": {},
     "output_type": "execute_result"
    }
   ],
   "source": [
    "SVCaccuracy=svc.score(X_test, Y_test) #Test Score\n",
    "SVCaccuracy"
   ]
  },
  {
   "cell_type": "code",
   "execution_count": 834,
   "metadata": {},
   "outputs": [
    {
     "name": "stdout",
     "output_type": "stream",
     "text": [
      "              precision    recall  f1-score   support\n",
      "\n",
      "         0.0       0.76      1.00      0.87        13\n",
      "         1.0       0.00      0.00      0.00         4\n",
      "\n",
      "    accuracy                           0.76        17\n",
      "   macro avg       0.38      0.50      0.43        17\n",
      "weighted avg       0.58      0.76      0.66        17\n",
      "\n"
     ]
    }
   ],
   "source": [
    "from sklearn.metrics import classification_report\n",
    "y_pred=svc.predict(X_test)\n",
    "print(classification_report(Y_test, y_pred))"
   ]
  },
  {
   "cell_type": "markdown",
   "metadata": {},
   "source": [
    "## RF"
   ]
  },
  {
   "cell_type": "code",
   "execution_count": 835,
   "metadata": {},
   "outputs": [],
   "source": [
    "rf =RandomForestClassifier()"
   ]
  },
  {
   "cell_type": "code",
   "execution_count": 836,
   "metadata": {},
   "outputs": [
    {
     "data": {
      "text/html": [
       "<style>#sk-container-id-147 {color: black;background-color: white;}#sk-container-id-147 pre{padding: 0;}#sk-container-id-147 div.sk-toggleable {background-color: white;}#sk-container-id-147 label.sk-toggleable__label {cursor: pointer;display: block;width: 100%;margin-bottom: 0;padding: 0.3em;box-sizing: border-box;text-align: center;}#sk-container-id-147 label.sk-toggleable__label-arrow:before {content: \"▸\";float: left;margin-right: 0.25em;color: #696969;}#sk-container-id-147 label.sk-toggleable__label-arrow:hover:before {color: black;}#sk-container-id-147 div.sk-estimator:hover label.sk-toggleable__label-arrow:before {color: black;}#sk-container-id-147 div.sk-toggleable__content {max-height: 0;max-width: 0;overflow: hidden;text-align: left;background-color: #f0f8ff;}#sk-container-id-147 div.sk-toggleable__content pre {margin: 0.2em;color: black;border-radius: 0.25em;background-color: #f0f8ff;}#sk-container-id-147 input.sk-toggleable__control:checked~div.sk-toggleable__content {max-height: 200px;max-width: 100%;overflow: auto;}#sk-container-id-147 input.sk-toggleable__control:checked~label.sk-toggleable__label-arrow:before {content: \"▾\";}#sk-container-id-147 div.sk-estimator input.sk-toggleable__control:checked~label.sk-toggleable__label {background-color: #d4ebff;}#sk-container-id-147 div.sk-label input.sk-toggleable__control:checked~label.sk-toggleable__label {background-color: #d4ebff;}#sk-container-id-147 input.sk-hidden--visually {border: 0;clip: rect(1px 1px 1px 1px);clip: rect(1px, 1px, 1px, 1px);height: 1px;margin: -1px;overflow: hidden;padding: 0;position: absolute;width: 1px;}#sk-container-id-147 div.sk-estimator {font-family: monospace;background-color: #f0f8ff;border: 1px dotted black;border-radius: 0.25em;box-sizing: border-box;margin-bottom: 0.5em;}#sk-container-id-147 div.sk-estimator:hover {background-color: #d4ebff;}#sk-container-id-147 div.sk-parallel-item::after {content: \"\";width: 100%;border-bottom: 1px solid gray;flex-grow: 1;}#sk-container-id-147 div.sk-label:hover label.sk-toggleable__label {background-color: #d4ebff;}#sk-container-id-147 div.sk-serial::before {content: \"\";position: absolute;border-left: 1px solid gray;box-sizing: border-box;top: 0;bottom: 0;left: 50%;z-index: 0;}#sk-container-id-147 div.sk-serial {display: flex;flex-direction: column;align-items: center;background-color: white;padding-right: 0.2em;padding-left: 0.2em;position: relative;}#sk-container-id-147 div.sk-item {position: relative;z-index: 1;}#sk-container-id-147 div.sk-parallel {display: flex;align-items: stretch;justify-content: center;background-color: white;position: relative;}#sk-container-id-147 div.sk-item::before, #sk-container-id-147 div.sk-parallel-item::before {content: \"\";position: absolute;border-left: 1px solid gray;box-sizing: border-box;top: 0;bottom: 0;left: 50%;z-index: -1;}#sk-container-id-147 div.sk-parallel-item {display: flex;flex-direction: column;z-index: 1;position: relative;background-color: white;}#sk-container-id-147 div.sk-parallel-item:first-child::after {align-self: flex-end;width: 50%;}#sk-container-id-147 div.sk-parallel-item:last-child::after {align-self: flex-start;width: 50%;}#sk-container-id-147 div.sk-parallel-item:only-child::after {width: 0;}#sk-container-id-147 div.sk-dashed-wrapped {border: 1px dashed gray;margin: 0 0.4em 0.5em 0.4em;box-sizing: border-box;padding-bottom: 0.4em;background-color: white;}#sk-container-id-147 div.sk-label label {font-family: monospace;font-weight: bold;display: inline-block;line-height: 1.2em;}#sk-container-id-147 div.sk-label-container {text-align: center;}#sk-container-id-147 div.sk-container {/* jupyter's `normalize.less` sets `[hidden] { display: none; }` but bootstrap.min.css set `[hidden] { display: none !important; }` so we also need the `!important` here to be able to override the default hidden behavior on the sphinx rendered scikit-learn.org. See: https://github.com/scikit-learn/scikit-learn/issues/21755 */display: inline-block !important;position: relative;}#sk-container-id-147 div.sk-text-repr-fallback {display: none;}</style><div id=\"sk-container-id-147\" class=\"sk-top-container\"><div class=\"sk-text-repr-fallback\"><pre>RandomForestClassifier()</pre><b>In a Jupyter environment, please rerun this cell to show the HTML representation or trust the notebook. <br />On GitHub, the HTML representation is unable to render, please try loading this page with nbviewer.org.</b></div><div class=\"sk-container\" hidden><div class=\"sk-item\"><div class=\"sk-estimator sk-toggleable\"><input class=\"sk-toggleable__control sk-hidden--visually\" id=\"sk-estimator-id-161\" type=\"checkbox\" checked><label for=\"sk-estimator-id-161\" class=\"sk-toggleable__label sk-toggleable__label-arrow\">RandomForestClassifier</label><div class=\"sk-toggleable__content\"><pre>RandomForestClassifier()</pre></div></div></div></div></div>"
      ],
      "text/plain": [
       "RandomForestClassifier()"
      ]
     },
     "execution_count": 836,
     "metadata": {},
     "output_type": "execute_result"
    }
   ],
   "source": [
    "rf.fit(X_train,Y_train)"
   ]
  },
  {
   "cell_type": "code",
   "execution_count": 837,
   "metadata": {},
   "outputs": [
    {
     "data": {
      "text/plain": [
       "1.0"
      ]
     },
     "execution_count": 837,
     "metadata": {},
     "output_type": "execute_result"
    }
   ],
   "source": [
    "rf.score(X_train, Y_train) #Train Score"
   ]
  },
  {
   "cell_type": "code",
   "execution_count": 838,
   "metadata": {},
   "outputs": [
    {
     "data": {
      "text/plain": [
       "0.8235294117647058"
      ]
     },
     "execution_count": 838,
     "metadata": {},
     "output_type": "execute_result"
    }
   ],
   "source": [
    "RFaccuracy=rf.score(X_test, Y_test) #Test Score\n",
    "RFaccuracy"
   ]
  },
  {
   "cell_type": "code",
   "execution_count": 839,
   "metadata": {},
   "outputs": [
    {
     "name": "stdout",
     "output_type": "stream",
     "text": [
      "              precision    recall  f1-score   support\n",
      "\n",
      "         0.0       0.81      1.00      0.90        13\n",
      "         1.0       1.00      0.25      0.40         4\n",
      "\n",
      "    accuracy                           0.82        17\n",
      "   macro avg       0.91      0.62      0.65        17\n",
      "weighted avg       0.86      0.82      0.78        17\n",
      "\n"
     ]
    }
   ],
   "source": [
    "from sklearn.metrics import classification_report\n",
    "y_pred=rf.predict(X_test)\n",
    "print(classification_report(Y_test, y_pred))"
   ]
  },
  {
   "cell_type": "markdown",
   "metadata": {},
   "source": [
    "### Before Feature Selection and Parameters Tuning"
   ]
  },
  {
   "cell_type": "code",
   "execution_count": 840,
   "metadata": {},
   "outputs": [
    {
     "data": {
      "text/plain": [
       "[(0.0, 100.0)]"
      ]
     },
     "execution_count": 840,
     "metadata": {},
     "output_type": "execute_result"
    },
    {
     "data": {
      "image/png": "[encoded data removed]",
      "text/plain": [
       "<Figure size 576x432 with 1 Axes>"
      ]
     },
     "metadata": {},
     "output_type": "display_data"
    }
   ],
   "source": [
    "plt.style.use(\"seaborn\")\n",
    "\n",
    "l1 = [\"Random Forest Classifier\",  \n",
    "     \"Support Vector Classifier\",\"KNeighbors Classifier \"]\n",
    "\n",
    "v1 = [RFaccuracy*100, \n",
    "     SVCaccuracy*100,\n",
    "     KNNaccuracy*100,]\n",
    "\n",
    "fig, ax = plt.subplots(figsize=(8,6))\n",
    "sns.barplot(x=l1,y=v1, palette=\"crest\");\n",
    "plt.ylabel(\"Model Accuracy\")\n",
    "plt.title(\"Model Comparison - Model Accuracy\", fontsize=16, fontname=\"arial\", y=1);\n",
    "ax.set(ylim=(0, 100))"
   ]
  },
  {
   "cell_type": "markdown",
   "metadata": {
    "id": "uNUgh9SNOOp7"
   },
   "source": [
    "# Feature selection Code :"
   ]
  },
  {
   "cell_type": "code",
   "execution_count": 858,
   "metadata": {},
   "outputs": [],
   "source": [
    "from sklearn.feature_selection import SelectKBest\n",
    "from sklearn.feature_selection import chi2\n",
    "select=SelectKBest(chi2, k=15000)\n",
    "X_train_selected = select.fit_transform(X_train, Y_train)\n",
    "X_test_selected= select.transform(X_test)"
   ]
  },
  {
   "cell_type": "markdown",
   "metadata": {},
   "source": [
    "# Evalutaed models"
   ]
  },
  {
   "cell_type": "markdown",
   "metadata": {},
   "source": [
    "### Random Forest"
   ]
  },
  {
   "cell_type": "code",
   "execution_count": 859,
   "metadata": {},
   "outputs": [],
   "source": [
    "rf_evalutaed =RandomForestClassifier(**rf_tuned.best_params_)"
   ]
  },
  {
   "cell_type": "code",
   "execution_count": 860,
   "metadata": {},
   "outputs": [
    {
     "data": {
      "text/html": [
       "<style>#sk-container-id-151 {color: black;background-color: white;}#sk-container-id-151 pre{padding: 0;}#sk-container-id-151 div.sk-toggleable {background-color: white;}#sk-container-id-151 label.sk-toggleable__label {cursor: pointer;display: block;width: 100%;margin-bottom: 0;padding: 0.3em;box-sizing: border-box;text-align: center;}#sk-container-id-151 label.sk-toggleable__label-arrow:before {content: \"▸\";float: left;margin-right: 0.25em;color: #696969;}#sk-container-id-151 label.sk-toggleable__label-arrow:hover:before {color: black;}#sk-container-id-151 div.sk-estimator:hover label.sk-toggleable__label-arrow:before {color: black;}#sk-container-id-151 div.sk-toggleable__content {max-height: 0;max-width: 0;overflow: hidden;text-align: left;background-color: #f0f8ff;}#sk-container-id-151 div.sk-toggleable__content pre {margin: 0.2em;color: black;border-radius: 0.25em;background-color: #f0f8ff;}#sk-container-id-151 input.sk-toggleable__control:checked~div.sk-toggleable__content {max-height: 200px;max-width: 100%;overflow: auto;}#sk-container-id-151 input.sk-toggleable__control:checked~label.sk-toggleable__label-arrow:before {content: \"▾\";}#sk-container-id-151 div.sk-estimator input.sk-toggleable__control:checked~label.sk-toggleable__label {background-color: #d4ebff;}#sk-container-id-151 div.sk-label input.sk-toggleable__control:checked~label.sk-toggleable__label {background-color: #d4ebff;}#sk-container-id-151 input.sk-hidden--visually {border: 0;clip: rect(1px 1px 1px 1px);clip: rect(1px, 1px, 1px, 1px);height: 1px;margin: -1px;overflow: hidden;padding: 0;position: absolute;width: 1px;}#sk-container-id-151 div.sk-estimator {font-family: monospace;background-color: #f0f8ff;border: 1px dotted black;border-radius: 0.25em;box-sizing: border-box;margin-bottom: 0.5em;}#sk-container-id-151 div.sk-estimator:hover {background-color: #d4ebff;}#sk-container-id-151 div.sk-parallel-item::after {content: \"\";width: 100%;border-bottom: 1px solid gray;flex-grow: 1;}#sk-container-id-151 div.sk-label:hover label.sk-toggleable__label {background-color: #d4ebff;}#sk-container-id-151 div.sk-serial::before {content: \"\";position: absolute;border-left: 1px solid gray;box-sizing: border-box;top: 0;bottom: 0;left: 50%;z-index: 0;}#sk-container-id-151 div.sk-serial {display: flex;flex-direction: column;align-items: center;background-color: white;padding-right: 0.2em;padding-left: 0.2em;position: relative;}#sk-container-id-151 div.sk-item {position: relative;z-index: 1;}#sk-container-id-151 div.sk-parallel {display: flex;align-items: stretch;justify-content: center;background-color: white;position: relative;}#sk-container-id-151 div.sk-item::before, #sk-container-id-151 div.sk-parallel-item::before {content: \"\";position: absolute;border-left: 1px solid gray;box-sizing: border-box;top: 0;bottom: 0;left: 50%;z-index: -1;}#sk-container-id-151 div.sk-parallel-item {display: flex;flex-direction: column;z-index: 1;position: relative;background-color: white;}#sk-container-id-151 div.sk-parallel-item:first-child::after {align-self: flex-end;width: 50%;}#sk-container-id-151 div.sk-parallel-item:last-child::after {align-self: flex-start;width: 50%;}#sk-container-id-151 div.sk-parallel-item:only-child::after {width: 0;}#sk-container-id-151 div.sk-dashed-wrapped {border: 1px dashed gray;margin: 0 0.4em 0.5em 0.4em;box-sizing: border-box;padding-bottom: 0.4em;background-color: white;}#sk-container-id-151 div.sk-label label {font-family: monospace;font-weight: bold;display: inline-block;line-height: 1.2em;}#sk-container-id-151 div.sk-label-container {text-align: center;}#sk-container-id-151 div.sk-container {/* jupyter's `normalize.less` sets `[hidden] { display: none; }` but bootstrap.min.css set `[hidden] { display: none !important; }` so we also need the `!important` here to be able to override the default hidden behavior on the sphinx rendered scikit-learn.org. See: https://github.com/scikit-learn/scikit-learn/issues/21755 */display: inline-block !important;position: relative;}#sk-container-id-151 div.sk-text-repr-fallback {display: none;}</style><div id=\"sk-container-id-151\" class=\"sk-top-container\"><div class=\"sk-text-repr-fallback\"><pre>RandomForestClassifier(max_depth=3, random_state=42)</pre><b>In a Jupyter environment, please rerun this cell to show the HTML representation or trust the notebook. <br />On GitHub, the HTML representation is unable to render, please try loading this page with nbviewer.org.</b></div><div class=\"sk-container\" hidden><div class=\"sk-item\"><div class=\"sk-estimator sk-toggleable\"><input class=\"sk-toggleable__control sk-hidden--visually\" id=\"sk-estimator-id-165\" type=\"checkbox\" checked><label for=\"sk-estimator-id-165\" class=\"sk-toggleable__label sk-toggleable__label-arrow\">RandomForestClassifier</label><div class=\"sk-toggleable__content\"><pre>RandomForestClassifier(max_depth=3, random_state=42)</pre></div></div></div></div></div>"
      ],
      "text/plain": [
       "RandomForestClassifier(max_depth=3, random_state=42)"
      ]
     },
     "execution_count": 860,
     "metadata": {},
     "output_type": "execute_result"
    }
   ],
   "source": [
    "rf_evalutaed.fit(X_train_selected,Y_train)"
   ]
  },
  {
   "cell_type": "code",
   "execution_count": 861,
   "metadata": {},
   "outputs": [
    {
     "data": {
      "text/plain": [
       "1.0"
      ]
     },
     "execution_count": 861,
     "metadata": {},
     "output_type": "execute_result"
    }
   ],
   "source": [
    "rf_evalutaed.score(X_train_selected, Y_train) #Train Score"
   ]
  },
  {
   "cell_type": "code",
   "execution_count": 862,
   "metadata": {},
   "outputs": [
    {
     "data": {
      "text/plain": [
       "0.7647058823529411"
      ]
     },
     "execution_count": 862,
     "metadata": {},
     "output_type": "execute_result"
    }
   ],
   "source": [
    "RFTaccuracy=rf_evalutaed.score(X_test_selected, Y_test) #Test Score\n",
    "RFTaccuracy"
   ]
  },
  {
   "cell_type": "code",
   "execution_count": 863,
   "metadata": {},
   "outputs": [
    {
     "name": "stdout",
     "output_type": "stream",
     "text": [
      "              precision    recall  f1-score   support\n",
      "\n",
      "         0.0       0.76      1.00      0.87        13\n",
      "         1.0       0.00      0.00      0.00         4\n",
      "\n",
      "    accuracy                           0.76        17\n",
      "   macro avg       0.38      0.50      0.43        17\n",
      "weighted avg       0.58      0.76      0.66        17\n",
      "\n"
     ]
    }
   ],
   "source": [
    "from sklearn.metrics import classification_report\n",
    "y_pred=rf_evalutaed.predict(X_test_selected)\n",
    "print(classification_report(Y_test, y_pred))"
   ]
  },
  {
   "cell_type": "markdown",
   "metadata": {},
   "source": [
    "### SVC"
   ]
  },
  {
   "cell_type": "code",
   "execution_count": 864,
   "metadata": {},
   "outputs": [],
   "source": [
    "svc_evalutaed =SVC(**svc_tuned.best_params_)"
   ]
  },
  {
   "cell_type": "code",
   "execution_count": 865,
   "metadata": {},
   "outputs": [
    {
     "data": {
      "text/html": [
       "<style>#sk-container-id-152 {color: black;background-color: white;}#sk-container-id-152 pre{padding: 0;}#sk-container-id-152 div.sk-toggleable {background-color: white;}#sk-container-id-152 label.sk-toggleable__label {cursor: pointer;display: block;width: 100%;margin-bottom: 0;padding: 0.3em;box-sizing: border-box;text-align: center;}#sk-container-id-152 label.sk-toggleable__label-arrow:before {content: \"▸\";float: left;margin-right: 0.25em;color: #696969;}#sk-container-id-152 label.sk-toggleable__label-arrow:hover:before {color: black;}#sk-container-id-152 div.sk-estimator:hover label.sk-toggleable__label-arrow:before {color: black;}#sk-container-id-152 div.sk-toggleable__content {max-height: 0;max-width: 0;overflow: hidden;text-align: left;background-color: #f0f8ff;}#sk-container-id-152 div.sk-toggleable__content pre {margin: 0.2em;color: black;border-radius: 0.25em;background-color: #f0f8ff;}#sk-container-id-152 input.sk-toggleable__control:checked~div.sk-toggleable__content {max-height: 200px;max-width: 100%;overflow: auto;}#sk-container-id-152 input.sk-toggleable__control:checked~label.sk-toggleable__label-arrow:before {content: \"▾\";}#sk-container-id-152 div.sk-estimator input.sk-toggleable__control:checked~label.sk-toggleable__label {background-color: #d4ebff;}#sk-container-id-152 div.sk-label input.sk-toggleable__control:checked~label.sk-toggleable__label {background-color: #d4ebff;}#sk-container-id-152 input.sk-hidden--visually {border: 0;clip: rect(1px 1px 1px 1px);clip: rect(1px, 1px, 1px, 1px);height: 1px;margin: -1px;overflow: hidden;padding: 0;position: absolute;width: 1px;}#sk-container-id-152 div.sk-estimator {font-family: monospace;background-color: #f0f8ff;border: 1px dotted black;border-radius: 0.25em;box-sizing: border-box;margin-bottom: 0.5em;}#sk-container-id-152 div.sk-estimator:hover {background-color: #d4ebff;}#sk-container-id-152 div.sk-parallel-item::after {content: \"\";width: 100%;border-bottom: 1px solid gray;flex-grow: 1;}#sk-container-id-152 div.sk-label:hover label.sk-toggleable__label {background-color: #d4ebff;}#sk-container-id-152 div.sk-serial::before {content: \"\";position: absolute;border-left: 1px solid gray;box-sizing: border-box;top: 0;bottom: 0;left: 50%;z-index: 0;}#sk-container-id-152 div.sk-serial {display: flex;flex-direction: column;align-items: center;background-color: white;padding-right: 0.2em;padding-left: 0.2em;position: relative;}#sk-container-id-152 div.sk-item {position: relative;z-index: 1;}#sk-container-id-152 div.sk-parallel {display: flex;align-items: stretch;justify-content: center;background-color: white;position: relative;}#sk-container-id-152 div.sk-item::before, #sk-container-id-152 div.sk-parallel-item::before {content: \"\";position: absolute;border-left: 1px solid gray;box-sizing: border-box;top: 0;bottom: 0;left: 50%;z-index: -1;}#sk-container-id-152 div.sk-parallel-item {display: flex;flex-direction: column;z-index: 1;position: relative;background-color: white;}#sk-container-id-152 div.sk-parallel-item:first-child::after {align-self: flex-end;width: 50%;}#sk-container-id-152 div.sk-parallel-item:last-child::after {align-self: flex-start;width: 50%;}#sk-container-id-152 div.sk-parallel-item:only-child::after {width: 0;}#sk-container-id-152 div.sk-dashed-wrapped {border: 1px dashed gray;margin: 0 0.4em 0.5em 0.4em;box-sizing: border-box;padding-bottom: 0.4em;background-color: white;}#sk-container-id-152 div.sk-label label {font-family: monospace;font-weight: bold;display: inline-block;line-height: 1.2em;}#sk-container-id-152 div.sk-label-container {text-align: center;}#sk-container-id-152 div.sk-container {/* jupyter's `normalize.less` sets `[hidden] { display: none; }` but bootstrap.min.css set `[hidden] { display: none !important; }` so we also need the `!important` here to be able to override the default hidden behavior on the sphinx rendered scikit-learn.org. See: https://github.com/scikit-learn/scikit-learn/issues/21755 */display: inline-block !important;position: relative;}#sk-container-id-152 div.sk-text-repr-fallback {display: none;}</style><div id=\"sk-container-id-152\" class=\"sk-top-container\"><div class=\"sk-text-repr-fallback\"><pre>SVC(C=1, kernel=&#x27;linear&#x27;)</pre><b>In a Jupyter environment, please rerun this cell to show the HTML representation or trust the notebook. <br />On GitHub, the HTML representation is unable to render, please try loading this page with nbviewer.org.</b></div><div class=\"sk-container\" hidden><div class=\"sk-item\"><div class=\"sk-estimator sk-toggleable\"><input class=\"sk-toggleable__control sk-hidden--visually\" id=\"sk-estimator-id-166\" type=\"checkbox\" checked><label for=\"sk-estimator-id-166\" class=\"sk-toggleable__label sk-toggleable__label-arrow\">SVC</label><div class=\"sk-toggleable__content\"><pre>SVC(C=1, kernel=&#x27;linear&#x27;)</pre></div></div></div></div></div>"
      ],
      "text/plain": [
       "SVC(C=1, kernel='linear')"
      ]
     },
     "execution_count": 865,
     "metadata": {},
     "output_type": "execute_result"
    }
   ],
   "source": [
    "svc_evalutaed.fit(X_train_selected,Y_train)"
   ]
  },
  {
   "cell_type": "code",
   "execution_count": 866,
   "metadata": {},
   "outputs": [
    {
     "data": {
      "text/plain": [
       "1.0"
      ]
     },
     "execution_count": 866,
     "metadata": {},
     "output_type": "execute_result"
    }
   ],
   "source": [
    "svc_evalutaed.score(X_train_selected, Y_train) #Train Score"
   ]
  },
  {
   "cell_type": "code",
   "execution_count": 867,
   "metadata": {},
   "outputs": [
    {
     "data": {
      "text/plain": [
       "0.9411764705882353"
      ]
     },
     "execution_count": 867,
     "metadata": {},
     "output_type": "execute_result"
    }
   ],
   "source": [
    "SVCTaccuracy=svc_evalutaed.score(X_test_selected, Y_test) #Test Score\n",
    "SVCTaccuracy"
   ]
  },
  {
   "cell_type": "code",
   "execution_count": 868,
   "metadata": {},
   "outputs": [
    {
     "name": "stdout",
     "output_type": "stream",
     "text": [
      "[[12  1]\n",
      " [ 0  4]]\n",
      "              precision    recall  f1-score   support\n",
      "\n",
      "         0.0       1.00      0.92      0.96        13\n",
      "         1.0       0.80      1.00      0.89         4\n",
      "\n",
      "    accuracy                           0.94        17\n",
      "   macro avg       0.90      0.96      0.92        17\n",
      "weighted avg       0.95      0.94      0.94        17\n",
      "\n"
     ]
    }
   ],
   "source": [
    "from sklearn.metrics import classification_report\n",
    "y_pred=svc_evalutaed.predict(X_test_selected)\n",
    "print(confusion_matrix(Y_test, y_pred))\n",
    "print(classification_report(Y_test, y_pred))"
   ]
  },
  {
   "cell_type": "markdown",
   "metadata": {},
   "source": [
    "### KNeighbors"
   ]
  },
  {
   "cell_type": "code",
   "execution_count": 869,
   "metadata": {},
   "outputs": [],
   "source": [
    "knn_evalutae=KNeighborsClassifier(**kn_tuned.best_params_)"
   ]
  },
  {
   "cell_type": "code",
   "execution_count": 870,
   "metadata": {},
   "outputs": [
    {
     "data": {
      "text/html": [
       "<style>#sk-container-id-153 {color: black;background-color: white;}#sk-container-id-153 pre{padding: 0;}#sk-container-id-153 div.sk-toggleable {background-color: white;}#sk-container-id-153 label.sk-toggleable__label {cursor: pointer;display: block;width: 100%;margin-bottom: 0;padding: 0.3em;box-sizing: border-box;text-align: center;}#sk-container-id-153 label.sk-toggleable__label-arrow:before {content: \"▸\";float: left;margin-right: 0.25em;color: #696969;}#sk-container-id-153 label.sk-toggleable__label-arrow:hover:before {color: black;}#sk-container-id-153 div.sk-estimator:hover label.sk-toggleable__label-arrow:before {color: black;}#sk-container-id-153 div.sk-toggleable__content {max-height: 0;max-width: 0;overflow: hidden;text-align: left;background-color: #f0f8ff;}#sk-container-id-153 div.sk-toggleable__content pre {margin: 0.2em;color: black;border-radius: 0.25em;background-color: #f0f8ff;}#sk-container-id-153 input.sk-toggleable__control:checked~div.sk-toggleable__content {max-height: 200px;max-width: 100%;overflow: auto;}#sk-container-id-153 input.sk-toggleable__control:checked~label.sk-toggleable__label-arrow:before {content: \"▾\";}#sk-container-id-153 div.sk-estimator input.sk-toggleable__control:checked~label.sk-toggleable__label {background-color: #d4ebff;}#sk-container-id-153 div.sk-label input.sk-toggleable__control:checked~label.sk-toggleable__label {background-color: #d4ebff;}#sk-container-id-153 input.sk-hidden--visually {border: 0;clip: rect(1px 1px 1px 1px);clip: rect(1px, 1px, 1px, 1px);height: 1px;margin: -1px;overflow: hidden;padding: 0;position: absolute;width: 1px;}#sk-container-id-153 div.sk-estimator {font-family: monospace;background-color: #f0f8ff;border: 1px dotted black;border-radius: 0.25em;box-sizing: border-box;margin-bottom: 0.5em;}#sk-container-id-153 div.sk-estimator:hover {background-color: #d4ebff;}#sk-container-id-153 div.sk-parallel-item::after {content: \"\";width: 100%;border-bottom: 1px solid gray;flex-grow: 1;}#sk-container-id-153 div.sk-label:hover label.sk-toggleable__label {background-color: #d4ebff;}#sk-container-id-153 div.sk-serial::before {content: \"\";position: absolute;border-left: 1px solid gray;box-sizing: border-box;top: 0;bottom: 0;left: 50%;z-index: 0;}#sk-container-id-153 div.sk-serial {display: flex;flex-direction: column;align-items: center;background-color: white;padding-right: 0.2em;padding-left: 0.2em;position: relative;}#sk-container-id-153 div.sk-item {position: relative;z-index: 1;}#sk-container-id-153 div.sk-parallel {display: flex;align-items: stretch;justify-content: center;background-color: white;position: relative;}#sk-container-id-153 div.sk-item::before, #sk-container-id-153 div.sk-parallel-item::before {content: \"\";position: absolute;border-left: 1px solid gray;box-sizing: border-box;top: 0;bottom: 0;left: 50%;z-index: -1;}#sk-container-id-153 div.sk-parallel-item {display: flex;flex-direction: column;z-index: 1;position: relative;background-color: white;}#sk-container-id-153 div.sk-parallel-item:first-child::after {align-self: flex-end;width: 50%;}#sk-container-id-153 div.sk-parallel-item:last-child::after {align-self: flex-start;width: 50%;}#sk-container-id-153 div.sk-parallel-item:only-child::after {width: 0;}#sk-container-id-153 div.sk-dashed-wrapped {border: 1px dashed gray;margin: 0 0.4em 0.5em 0.4em;box-sizing: border-box;padding-bottom: 0.4em;background-color: white;}#sk-container-id-153 div.sk-label label {font-family: monospace;font-weight: bold;display: inline-block;line-height: 1.2em;}#sk-container-id-153 div.sk-label-container {text-align: center;}#sk-container-id-153 div.sk-container {/* jupyter's `normalize.less` sets `[hidden] { display: none; }` but bootstrap.min.css set `[hidden] { display: none !important; }` so we also need the `!important` here to be able to override the default hidden behavior on the sphinx rendered scikit-learn.org. See: https://github.com/scikit-learn/scikit-learn/issues/21755 */display: inline-block !important;position: relative;}#sk-container-id-153 div.sk-text-repr-fallback {display: none;}</style><div id=\"sk-container-id-153\" class=\"sk-top-container\"><div class=\"sk-text-repr-fallback\"><pre>KNeighborsClassifier(leaf_size=10, n_neighbors=3)</pre><b>In a Jupyter environment, please rerun this cell to show the HTML representation or trust the notebook. <br />On GitHub, the HTML representation is unable to render, please try loading this page with nbviewer.org.</b></div><div class=\"sk-container\" hidden><div class=\"sk-item\"><div class=\"sk-estimator sk-toggleable\"><input class=\"sk-toggleable__control sk-hidden--visually\" id=\"sk-estimator-id-167\" type=\"checkbox\" checked><label for=\"sk-estimator-id-167\" class=\"sk-toggleable__label sk-toggleable__label-arrow\">KNeighborsClassifier</label><div class=\"sk-toggleable__content\"><pre>KNeighborsClassifier(leaf_size=10, n_neighbors=3)</pre></div></div></div></div></div>"
      ],
      "text/plain": [
       "KNeighborsClassifier(leaf_size=10, n_neighbors=3)"
      ]
     },
     "execution_count": 870,
     "metadata": {},
     "output_type": "execute_result"
    }
   ],
   "source": [
    "knn_evalutae.fit(X_train_selected,Y_train)"
   ]
  },
  {
   "cell_type": "code",
   "execution_count": 871,
   "metadata": {},
   "outputs": [
    {
     "data": {
      "text/plain": [
       "1.0"
      ]
     },
     "execution_count": 871,
     "metadata": {},
     "output_type": "execute_result"
    }
   ],
   "source": [
    "knn_evalutae.score(X_train_selected, Y_train) #Train Score"
   ]
  },
  {
   "cell_type": "code",
   "execution_count": 872,
   "metadata": {},
   "outputs": [
    {
     "data": {
      "text/plain": [
       "0.8823529411764706"
      ]
     },
     "execution_count": 872,
     "metadata": {},
     "output_type": "execute_result"
    }
   ],
   "source": [
    "KNNTaccuracy=knn_evalutae.score(X_test_selected, Y_test) #Test Score\n",
    "KNNTaccuracy"
   ]
  },
  {
   "cell_type": "code",
   "execution_count": 873,
   "metadata": {},
   "outputs": [
    {
     "name": "stdout",
     "output_type": "stream",
     "text": [
      "              precision    recall  f1-score   support\n",
      "\n",
      "         0.0       0.92      0.92      0.92        13\n",
      "         1.0       0.75      0.75      0.75         4\n",
      "\n",
      "    accuracy                           0.88        17\n",
      "   macro avg       0.84      0.84      0.84        17\n",
      "weighted avg       0.88      0.88      0.88        17\n",
      "\n"
     ]
    }
   ],
   "source": [
    "from sklearn.metrics import classification_report\n",
    "y_pred=knn_evalutae.predict(X_test_selected)\n",
    "print(classification_report(Y_test, y_pred))"
   ]
  },
  {
   "cell_type": "markdown",
   "metadata": {},
   "source": [
    "## After Feature Selection"
   ]
  },
  {
   "cell_type": "code",
   "execution_count": 874,
   "metadata": {},
   "outputs": [
    {
     "data": {
      "text/plain": [
       "[(0.0, 100.0)]"
      ]
     },
     "execution_count": 874,
     "metadata": {},
     "output_type": "execute_result"
    },
    {
     "data": {
      "image/png": "[encoded data removed]",
      "text/plain": [
       "<Figure size 576x432 with 1 Axes>"
      ]
     },
     "metadata": {},
     "output_type": "display_data"
    }
   ],
   "source": [
    "plt.style.use(\"seaborn\")\n",
    "\n",
    "l2 = [\"Random Forest Classifier\",  \n",
    "     \"Support Vector Classifier\",\"KNeighbors Classifier \"]\n",
    "\n",
    "v2 = [RFTaccuracy*100, \n",
    "     SVCTaccuracy*100,\n",
    "     KNNTaccuracy*100,]\n",
    "\n",
    "fig, ax = plt.subplots(figsize=(8,6))\n",
    "sns.barplot(x=l2,y=v2, palette=\"crest\");\n",
    "plt.ylabel(\"Model Accuracy\")\n",
    "plt.title(\"Model Comparison - Model Accuracy\", fontsize=16, fontname=\"arial\", y=1);\n",
    "ax.set(ylim=(0, 100))"
   ]
  },
  {
   "cell_type": "code",
   "execution_count": 875,
   "metadata": {},
   "outputs": [],
   "source": [
    "from joblib import dump\n",
    "\n",
    "dump(svc_evalutaed, './luekemia_cancer_svc.joblib')\n",
    "Y_test=Y_test.replace({0: 'JMML', 1: 'Normal'})\n",
    "pd.DataFrame(Y_test).to_csv('luekemia_result.csv',)\n",
    "pd.DataFrame(X_test_selected).to_csv('luekemia_test.csv',)"
   ]
  },
  {
   "cell_type": "code",
   "execution_count": null,
   "metadata": {},
   "outputs": [],
   "source": []
  },
  {
   "cell_type": "code",
   "execution_count": null,
   "metadata": {},
   "outputs": [],
   "source": []
  },
  {
   "cell_type": "code",
   "execution_count": null,
   "metadata": {},
   "outputs": [],
   "source": []
  }
 ],
 "metadata": {
  "colab": {
   "collapsed_sections": [],
   "name": "finalProject.ipynb",
   "provenance": []
  },
  "kernelspec": {
   "display_name": "Python 3 (ipykernel)",
   "language": "python",
   "name": "python3"
  },
  "language_info": {
   "codemirror_mode": {
    "name": "ipython",
    "version": 3
   },
   "file_extension": ".py",
   "mimetype": "text/x-python",
   "name": "python",
   "nbconvert_exporter": "python",
   "pygments_lexer": "ipython3",
   "version": "3.9.12"
  }
 },
 "nbformat": 4,
 "nbformat_minor": 1
}
